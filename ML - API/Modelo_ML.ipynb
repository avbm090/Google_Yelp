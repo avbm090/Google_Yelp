{
  "nbformat": 4,
  "nbformat_minor": 0,
  "metadata": {
    "colab": {
      "provenance": []
    },
    "kernelspec": {
      "name": "python3",
      "display_name": "Python 3"
    },
    "language_info": {
      "name": "python"
    }
  },
  "cells": [
    {
      "cell_type": "markdown",
      "source": [
        "# Modelo de Machine Learning"
      ],
      "metadata": {
        "id": "OC9w-GvAXZeP"
      }
    },
    {
      "cell_type": "markdown",
      "source": [
        "# Se importan las librerias"
      ],
      "metadata": {
        "id": "Tn8yaY131ahU"
      }
    },
    {
      "cell_type": "code",
      "source": [
        "import pandas as pd\n",
        "import seaborn as sns\n",
        "from sklearn.neighbors import KernelDensity\n",
        "import numpy as np\n",
        "import matplotlib.pyplot as plt\n",
        "from mpl_toolkits.mplot3d import Axes3D\n",
        "from sklearn.preprocessing import MinMaxScaler\n",
        "from scipy.optimize import minimize\n",
        "import re\n",
        "from gensim.models import Word2Vec\n",
        "from nltk.tokenize import word_tokenize\n",
        "import warnings\n",
        "warnings.filterwarnings('ignore')\n",
        "import nltk\n",
        "import folium\n",
        "from scipy import stats\n",
        "from sklearn.metrics.pairwise import cosine_similarity\n",
        "from scipy.spatial import distance\n",
        "from nltk.tokenize import word_tokenize\n",
        "# Se descarga el recurso 'punkt' para tokenizar o separar palabras\n",
        "nltk.download('punkt')"
      ],
      "metadata": {
        "id": "kMRhYz0FcRP7",
        "colab": {
          "base_uri": "https://localhost:8080/"
        },
        "outputId": "cea71f02-8e5e-414f-9241-a2745dcbe955"
      },
      "execution_count": null,
      "outputs": [
        {
          "output_type": "stream",
          "name": "stderr",
          "text": [
            "[nltk_data] Downloading package punkt to /root/nltk_data...\n",
            "[nltk_data]   Package punkt is already up-to-date!\n"
          ]
        },
        {
          "output_type": "execute_result",
          "data": {
            "text/plain": [
              "True"
            ]
          },
          "metadata": {},
          "execution_count": 3
        }
      ]
    },
    {
      "cell_type": "markdown",
      "source": [
        "### Se importa el archivo \"Metadata ML.csv\" que está asociado a 1200 restaurantes de Miami filtrados"
      ],
      "metadata": {
        "id": "fFJOzTSp1e_a"
      }
    },
    {
      "cell_type": "code",
      "source": [
        "meta_2=pd.read_csv(\"Metadata ML.csv\")"
      ],
      "metadata": {
        "id": "A9aXhj4DTWlm"
      },
      "execution_count": null,
      "outputs": []
    },
    {
      "cell_type": "markdown",
      "source": [
        "### Se importa el archivo \"Metadata.csv\" que se utilizará para medir el KPI 1"
      ],
      "metadata": {
        "id": "GIyTBtudX9xD"
      }
    },
    {
      "cell_type": "code",
      "source": [
        "meta=pd.read_csv(\"Metadata.csv\")"
      ],
      "metadata": {
        "id": "x5OJ-ajWUgtM"
      },
      "execution_count": null,
      "outputs": []
    },
    {
      "cell_type": "code",
      "source": [
        "meta.head(2)"
      ],
      "metadata": {
        "colab": {
          "base_uri": "https://localhost:8080/",
          "height": 340
        },
        "id": "TPu7lA58eNip",
        "outputId": "18ea8b52-944e-432a-fee4-586524488f98"
      },
      "execution_count": null,
      "outputs": [
        {
          "output_type": "execute_result",
          "data": {
            "text/plain": [
              "          local_name                                            address  \\\n",
              "0  La Pupusa Factory  La Pupusa Factory, 1947 W Flagler St, Miami, F...   \n",
              "1             Subway             Subway, 8352 Mills Dr, Miami, FL 33183   \n",
              "\n",
              "                                 gmap_id   latitude  longitude    category  \\\n",
              "0  0x88d9b6e36c859cb3:0xa9a5e651a22e92a3  25.772856 -80.227814  Restaurant   \n",
              "1  0x88d9c0c3a05a45df:0xb3d1f93ccfb2da60  25.689864 -80.388096  Restaurant   \n",
              "\n",
              "   avg_rating  num_of_reviews  apto_sillas_de_ruedas  atmosfera_agradable  \\\n",
              "0         3.3               8                      0                    0   \n",
              "1         3.4              26                      0                    0   \n",
              "\n",
              "   apto_grupos_grandes  solo_efectivo state   City  \n",
              "0                    0              0    FL  Miami  \n",
              "1                    0              0    FL  Miami  "
            ],
            "text/html": [
              "\n",
              "  <div id=\"df-e2a721c6-71ac-467c-9aff-a07d04422a8c\" class=\"colab-df-container\">\n",
              "    <div>\n",
              "<style scoped>\n",
              "    .dataframe tbody tr th:only-of-type {\n",
              "        vertical-align: middle;\n",
              "    }\n",
              "\n",
              "    .dataframe tbody tr th {\n",
              "        vertical-align: top;\n",
              "    }\n",
              "\n",
              "    .dataframe thead th {\n",
              "        text-align: right;\n",
              "    }\n",
              "</style>\n",
              "<table border=\"1\" class=\"dataframe\">\n",
              "  <thead>\n",
              "    <tr style=\"text-align: right;\">\n",
              "      <th></th>\n",
              "      <th>local_name</th>\n",
              "      <th>address</th>\n",
              "      <th>gmap_id</th>\n",
              "      <th>latitude</th>\n",
              "      <th>longitude</th>\n",
              "      <th>category</th>\n",
              "      <th>avg_rating</th>\n",
              "      <th>num_of_reviews</th>\n",
              "      <th>apto_sillas_de_ruedas</th>\n",
              "      <th>atmosfera_agradable</th>\n",
              "      <th>apto_grupos_grandes</th>\n",
              "      <th>solo_efectivo</th>\n",
              "      <th>state</th>\n",
              "      <th>City</th>\n",
              "    </tr>\n",
              "  </thead>\n",
              "  <tbody>\n",
              "    <tr>\n",
              "      <th>0</th>\n",
              "      <td>La Pupusa Factory</td>\n",
              "      <td>La Pupusa Factory, 1947 W Flagler St, Miami, F...</td>\n",
              "      <td>0x88d9b6e36c859cb3:0xa9a5e651a22e92a3</td>\n",
              "      <td>25.772856</td>\n",
              "      <td>-80.227814</td>\n",
              "      <td>Restaurant</td>\n",
              "      <td>3.3</td>\n",
              "      <td>8</td>\n",
              "      <td>0</td>\n",
              "      <td>0</td>\n",
              "      <td>0</td>\n",
              "      <td>0</td>\n",
              "      <td>FL</td>\n",
              "      <td>Miami</td>\n",
              "    </tr>\n",
              "    <tr>\n",
              "      <th>1</th>\n",
              "      <td>Subway</td>\n",
              "      <td>Subway, 8352 Mills Dr, Miami, FL 33183</td>\n",
              "      <td>0x88d9c0c3a05a45df:0xb3d1f93ccfb2da60</td>\n",
              "      <td>25.689864</td>\n",
              "      <td>-80.388096</td>\n",
              "      <td>Restaurant</td>\n",
              "      <td>3.4</td>\n",
              "      <td>26</td>\n",
              "      <td>0</td>\n",
              "      <td>0</td>\n",
              "      <td>0</td>\n",
              "      <td>0</td>\n",
              "      <td>FL</td>\n",
              "      <td>Miami</td>\n",
              "    </tr>\n",
              "  </tbody>\n",
              "</table>\n",
              "</div>\n",
              "    <div class=\"colab-df-buttons\">\n",
              "\n",
              "  <div class=\"colab-df-container\">\n",
              "    <button class=\"colab-df-convert\" onclick=\"convertToInteractive('df-e2a721c6-71ac-467c-9aff-a07d04422a8c')\"\n",
              "            title=\"Convert this dataframe to an interactive table.\"\n",
              "            style=\"display:none;\">\n",
              "\n",
              "  <svg xmlns=\"http://www.w3.org/2000/svg\" height=\"24px\" viewBox=\"0 -960 960 960\">\n",
              "    <path d=\"M120-120v-720h720v720H120Zm60-500h600v-160H180v160Zm220 220h160v-160H400v160Zm0 220h160v-160H400v160ZM180-400h160v-160H180v160Zm440 0h160v-160H620v160ZM180-180h160v-160H180v160Zm440 0h160v-160H620v160Z\"/>\n",
              "  </svg>\n",
              "    </button>\n",
              "\n",
              "  <style>\n",
              "    .colab-df-container {\n",
              "      display:flex;\n",
              "      gap: 12px;\n",
              "    }\n",
              "\n",
              "    .colab-df-convert {\n",
              "      background-color: #E8F0FE;\n",
              "      border: none;\n",
              "      border-radius: 50%;\n",
              "      cursor: pointer;\n",
              "      display: none;\n",
              "      fill: #1967D2;\n",
              "      height: 32px;\n",
              "      padding: 0 0 0 0;\n",
              "      width: 32px;\n",
              "    }\n",
              "\n",
              "    .colab-df-convert:hover {\n",
              "      background-color: #E2EBFA;\n",
              "      box-shadow: 0px 1px 2px rgba(60, 64, 67, 0.3), 0px 1px 3px 1px rgba(60, 64, 67, 0.15);\n",
              "      fill: #174EA6;\n",
              "    }\n",
              "\n",
              "    .colab-df-buttons div {\n",
              "      margin-bottom: 4px;\n",
              "    }\n",
              "\n",
              "    [theme=dark] .colab-df-convert {\n",
              "      background-color: #3B4455;\n",
              "      fill: #D2E3FC;\n",
              "    }\n",
              "\n",
              "    [theme=dark] .colab-df-convert:hover {\n",
              "      background-color: #434B5C;\n",
              "      box-shadow: 0px 1px 3px 1px rgba(0, 0, 0, 0.15);\n",
              "      filter: drop-shadow(0px 1px 2px rgba(0, 0, 0, 0.3));\n",
              "      fill: #FFFFFF;\n",
              "    }\n",
              "  </style>\n",
              "\n",
              "    <script>\n",
              "      const buttonEl =\n",
              "        document.querySelector('#df-e2a721c6-71ac-467c-9aff-a07d04422a8c button.colab-df-convert');\n",
              "      buttonEl.style.display =\n",
              "        google.colab.kernel.accessAllowed ? 'block' : 'none';\n",
              "\n",
              "      async function convertToInteractive(key) {\n",
              "        const element = document.querySelector('#df-e2a721c6-71ac-467c-9aff-a07d04422a8c');\n",
              "        const dataTable =\n",
              "          await google.colab.kernel.invokeFunction('convertToInteractive',\n",
              "                                                    [key], {});\n",
              "        if (!dataTable) return;\n",
              "\n",
              "        const docLinkHtml = 'Like what you see? Visit the ' +\n",
              "          '<a target=\"_blank\" href=https://colab.research.google.com/notebooks/data_table.ipynb>data table notebook</a>'\n",
              "          + ' to learn more about interactive tables.';\n",
              "        element.innerHTML = '';\n",
              "        dataTable['output_type'] = 'display_data';\n",
              "        await google.colab.output.renderOutput(dataTable, element);\n",
              "        const docLink = document.createElement('div');\n",
              "        docLink.innerHTML = docLinkHtml;\n",
              "        element.appendChild(docLink);\n",
              "      }\n",
              "    </script>\n",
              "  </div>\n",
              "\n",
              "\n",
              "<div id=\"df-940fc222-791e-4334-b148-1b99ce668215\">\n",
              "  <button class=\"colab-df-quickchart\" onclick=\"quickchart('df-940fc222-791e-4334-b148-1b99ce668215')\"\n",
              "            title=\"Suggest charts.\"\n",
              "            style=\"display:none;\">\n",
              "\n",
              "<svg xmlns=\"http://www.w3.org/2000/svg\" height=\"24px\"viewBox=\"0 0 24 24\"\n",
              "     width=\"24px\">\n",
              "    <g>\n",
              "        <path d=\"M19 3H5c-1.1 0-2 .9-2 2v14c0 1.1.9 2 2 2h14c1.1 0 2-.9 2-2V5c0-1.1-.9-2-2-2zM9 17H7v-7h2v7zm4 0h-2V7h2v10zm4 0h-2v-4h2v4z\"/>\n",
              "    </g>\n",
              "</svg>\n",
              "  </button>\n",
              "\n",
              "<style>\n",
              "  .colab-df-quickchart {\n",
              "      --bg-color: #E8F0FE;\n",
              "      --fill-color: #1967D2;\n",
              "      --hover-bg-color: #E2EBFA;\n",
              "      --hover-fill-color: #174EA6;\n",
              "      --disabled-fill-color: #AAA;\n",
              "      --disabled-bg-color: #DDD;\n",
              "  }\n",
              "\n",
              "  [theme=dark] .colab-df-quickchart {\n",
              "      --bg-color: #3B4455;\n",
              "      --fill-color: #D2E3FC;\n",
              "      --hover-bg-color: #434B5C;\n",
              "      --hover-fill-color: #FFFFFF;\n",
              "      --disabled-bg-color: #3B4455;\n",
              "      --disabled-fill-color: #666;\n",
              "  }\n",
              "\n",
              "  .colab-df-quickchart {\n",
              "    background-color: var(--bg-color);\n",
              "    border: none;\n",
              "    border-radius: 50%;\n",
              "    cursor: pointer;\n",
              "    display: none;\n",
              "    fill: var(--fill-color);\n",
              "    height: 32px;\n",
              "    padding: 0;\n",
              "    width: 32px;\n",
              "  }\n",
              "\n",
              "  .colab-df-quickchart:hover {\n",
              "    background-color: var(--hover-bg-color);\n",
              "    box-shadow: 0 1px 2px rgba(60, 64, 67, 0.3), 0 1px 3px 1px rgba(60, 64, 67, 0.15);\n",
              "    fill: var(--button-hover-fill-color);\n",
              "  }\n",
              "\n",
              "  .colab-df-quickchart-complete:disabled,\n",
              "  .colab-df-quickchart-complete:disabled:hover {\n",
              "    background-color: var(--disabled-bg-color);\n",
              "    fill: var(--disabled-fill-color);\n",
              "    box-shadow: none;\n",
              "  }\n",
              "\n",
              "  .colab-df-spinner {\n",
              "    border: 2px solid var(--fill-color);\n",
              "    border-color: transparent;\n",
              "    border-bottom-color: var(--fill-color);\n",
              "    animation:\n",
              "      spin 1s steps(1) infinite;\n",
              "  }\n",
              "\n",
              "  @keyframes spin {\n",
              "    0% {\n",
              "      border-color: transparent;\n",
              "      border-bottom-color: var(--fill-color);\n",
              "      border-left-color: var(--fill-color);\n",
              "    }\n",
              "    20% {\n",
              "      border-color: transparent;\n",
              "      border-left-color: var(--fill-color);\n",
              "      border-top-color: var(--fill-color);\n",
              "    }\n",
              "    30% {\n",
              "      border-color: transparent;\n",
              "      border-left-color: var(--fill-color);\n",
              "      border-top-color: var(--fill-color);\n",
              "      border-right-color: var(--fill-color);\n",
              "    }\n",
              "    40% {\n",
              "      border-color: transparent;\n",
              "      border-right-color: var(--fill-color);\n",
              "      border-top-color: var(--fill-color);\n",
              "    }\n",
              "    60% {\n",
              "      border-color: transparent;\n",
              "      border-right-color: var(--fill-color);\n",
              "    }\n",
              "    80% {\n",
              "      border-color: transparent;\n",
              "      border-right-color: var(--fill-color);\n",
              "      border-bottom-color: var(--fill-color);\n",
              "    }\n",
              "    90% {\n",
              "      border-color: transparent;\n",
              "      border-bottom-color: var(--fill-color);\n",
              "    }\n",
              "  }\n",
              "</style>\n",
              "\n",
              "  <script>\n",
              "    async function quickchart(key) {\n",
              "      const quickchartButtonEl =\n",
              "        document.querySelector('#' + key + ' button');\n",
              "      quickchartButtonEl.disabled = true;  // To prevent multiple clicks.\n",
              "      quickchartButtonEl.classList.add('colab-df-spinner');\n",
              "      try {\n",
              "        const charts = await google.colab.kernel.invokeFunction(\n",
              "            'suggestCharts', [key], {});\n",
              "      } catch (error) {\n",
              "        console.error('Error during call to suggestCharts:', error);\n",
              "      }\n",
              "      quickchartButtonEl.classList.remove('colab-df-spinner');\n",
              "      quickchartButtonEl.classList.add('colab-df-quickchart-complete');\n",
              "    }\n",
              "    (() => {\n",
              "      let quickchartButtonEl =\n",
              "        document.querySelector('#df-940fc222-791e-4334-b148-1b99ce668215 button');\n",
              "      quickchartButtonEl.style.display =\n",
              "        google.colab.kernel.accessAllowed ? 'block' : 'none';\n",
              "    })();\n",
              "  </script>\n",
              "</div>\n",
              "    </div>\n",
              "  </div>\n"
            ]
          },
          "metadata": {},
          "execution_count": 5
        }
      ]
    },
    {
      "cell_type": "markdown",
      "source": [
        "### Se importan los archivos \"data_filtrada.parquet\" y \"data_reviews.parquet\" que posee un gran conjunto de palabras útiles para entrenar el modelo"
      ],
      "metadata": {
        "id": "hvotsQtP2FOJ"
      }
    },
    {
      "cell_type": "code",
      "execution_count": null,
      "metadata": {
        "id": "QplMcjSAbt3G"
      },
      "outputs": [],
      "source": [
        "meta_1=pd.read_parquet(\"data_filtrada.parquet\")"
      ]
    },
    {
      "cell_type": "code",
      "source": [
        "meta_3=pd.read_parquet(\"data_reviews.parquet\")"
      ],
      "metadata": {
        "id": "6ft4_1XAwpd3"
      },
      "execution_count": null,
      "outputs": []
    },
    {
      "cell_type": "code",
      "source": [
        "meta_3.head(3)"
      ],
      "metadata": {
        "colab": {
          "base_uri": "https://localhost:8080/",
          "height": 196
        },
        "id": "bBDy37XLw70V",
        "outputId": "e888ab16-07b0-4d44-9d36-90c3d7a7fd5d"
      },
      "execution_count": null,
      "outputs": [
        {
          "output_type": "execute_result",
          "data": {
            "text/plain": [
              "        date  rating                                            opinion  \\\n",
              "0 2021-08-03       1  Update: Their “reply” to my review amounted to...   \n",
              "1 2020-07-18       5  He's a knowledgeable doctor but the way he run...   \n",
              "2 2021-04-19       5  The Husband and Wife are so nice and helpful. ...   \n",
              "\n",
              "                                                resp  \\\n",
              "0  {\"time\": 1627042799532, \"text\": \"Thank you for...   \n",
              "1  {\"time\": 1582464056733, \"text\": \"Thank you for...   \n",
              "2                                               None   \n",
              "\n",
              "                                 gmap_id  \n",
              "0  0x8893863ea87bd5dd:0x9383ebf973e74abb  \n",
              "1  0x8893863ea87bd5dd:0x9383ebf973e74abb  \n",
              "2  0x88c33f1c8e1f99a3:0x99b22c5bd258b3a7  "
            ],
            "text/html": [
              "\n",
              "  <div id=\"df-133d88f8-4b25-4a0e-8dd9-ee7dacc1bebe\" class=\"colab-df-container\">\n",
              "    <div>\n",
              "<style scoped>\n",
              "    .dataframe tbody tr th:only-of-type {\n",
              "        vertical-align: middle;\n",
              "    }\n",
              "\n",
              "    .dataframe tbody tr th {\n",
              "        vertical-align: top;\n",
              "    }\n",
              "\n",
              "    .dataframe thead th {\n",
              "        text-align: right;\n",
              "    }\n",
              "</style>\n",
              "<table border=\"1\" class=\"dataframe\">\n",
              "  <thead>\n",
              "    <tr style=\"text-align: right;\">\n",
              "      <th></th>\n",
              "      <th>date</th>\n",
              "      <th>rating</th>\n",
              "      <th>opinion</th>\n",
              "      <th>resp</th>\n",
              "      <th>gmap_id</th>\n",
              "    </tr>\n",
              "  </thead>\n",
              "  <tbody>\n",
              "    <tr>\n",
              "      <th>0</th>\n",
              "      <td>2021-08-03</td>\n",
              "      <td>1</td>\n",
              "      <td>Update: Their “reply” to my review amounted to...</td>\n",
              "      <td>{\"time\": 1627042799532, \"text\": \"Thank you for...</td>\n",
              "      <td>0x8893863ea87bd5dd:0x9383ebf973e74abb</td>\n",
              "    </tr>\n",
              "    <tr>\n",
              "      <th>1</th>\n",
              "      <td>2020-07-18</td>\n",
              "      <td>5</td>\n",
              "      <td>He's a knowledgeable doctor but the way he run...</td>\n",
              "      <td>{\"time\": 1582464056733, \"text\": \"Thank you for...</td>\n",
              "      <td>0x8893863ea87bd5dd:0x9383ebf973e74abb</td>\n",
              "    </tr>\n",
              "    <tr>\n",
              "      <th>2</th>\n",
              "      <td>2021-04-19</td>\n",
              "      <td>5</td>\n",
              "      <td>The Husband and Wife are so nice and helpful. ...</td>\n",
              "      <td>None</td>\n",
              "      <td>0x88c33f1c8e1f99a3:0x99b22c5bd258b3a7</td>\n",
              "    </tr>\n",
              "  </tbody>\n",
              "</table>\n",
              "</div>\n",
              "    <div class=\"colab-df-buttons\">\n",
              "\n",
              "  <div class=\"colab-df-container\">\n",
              "    <button class=\"colab-df-convert\" onclick=\"convertToInteractive('df-133d88f8-4b25-4a0e-8dd9-ee7dacc1bebe')\"\n",
              "            title=\"Convert this dataframe to an interactive table.\"\n",
              "            style=\"display:none;\">\n",
              "\n",
              "  <svg xmlns=\"http://www.w3.org/2000/svg\" height=\"24px\" viewBox=\"0 -960 960 960\">\n",
              "    <path d=\"M120-120v-720h720v720H120Zm60-500h600v-160H180v160Zm220 220h160v-160H400v160Zm0 220h160v-160H400v160ZM180-400h160v-160H180v160Zm440 0h160v-160H620v160ZM180-180h160v-160H180v160Zm440 0h160v-160H620v160Z\"/>\n",
              "  </svg>\n",
              "    </button>\n",
              "\n",
              "  <style>\n",
              "    .colab-df-container {\n",
              "      display:flex;\n",
              "      gap: 12px;\n",
              "    }\n",
              "\n",
              "    .colab-df-convert {\n",
              "      background-color: #E8F0FE;\n",
              "      border: none;\n",
              "      border-radius: 50%;\n",
              "      cursor: pointer;\n",
              "      display: none;\n",
              "      fill: #1967D2;\n",
              "      height: 32px;\n",
              "      padding: 0 0 0 0;\n",
              "      width: 32px;\n",
              "    }\n",
              "\n",
              "    .colab-df-convert:hover {\n",
              "      background-color: #E2EBFA;\n",
              "      box-shadow: 0px 1px 2px rgba(60, 64, 67, 0.3), 0px 1px 3px 1px rgba(60, 64, 67, 0.15);\n",
              "      fill: #174EA6;\n",
              "    }\n",
              "\n",
              "    .colab-df-buttons div {\n",
              "      margin-bottom: 4px;\n",
              "    }\n",
              "\n",
              "    [theme=dark] .colab-df-convert {\n",
              "      background-color: #3B4455;\n",
              "      fill: #D2E3FC;\n",
              "    }\n",
              "\n",
              "    [theme=dark] .colab-df-convert:hover {\n",
              "      background-color: #434B5C;\n",
              "      box-shadow: 0px 1px 3px 1px rgba(0, 0, 0, 0.15);\n",
              "      filter: drop-shadow(0px 1px 2px rgba(0, 0, 0, 0.3));\n",
              "      fill: #FFFFFF;\n",
              "    }\n",
              "  </style>\n",
              "\n",
              "    <script>\n",
              "      const buttonEl =\n",
              "        document.querySelector('#df-133d88f8-4b25-4a0e-8dd9-ee7dacc1bebe button.colab-df-convert');\n",
              "      buttonEl.style.display =\n",
              "        google.colab.kernel.accessAllowed ? 'block' : 'none';\n",
              "\n",
              "      async function convertToInteractive(key) {\n",
              "        const element = document.querySelector('#df-133d88f8-4b25-4a0e-8dd9-ee7dacc1bebe');\n",
              "        const dataTable =\n",
              "          await google.colab.kernel.invokeFunction('convertToInteractive',\n",
              "                                                    [key], {});\n",
              "        if (!dataTable) return;\n",
              "\n",
              "        const docLinkHtml = 'Like what you see? Visit the ' +\n",
              "          '<a target=\"_blank\" href=https://colab.research.google.com/notebooks/data_table.ipynb>data table notebook</a>'\n",
              "          + ' to learn more about interactive tables.';\n",
              "        element.innerHTML = '';\n",
              "        dataTable['output_type'] = 'display_data';\n",
              "        await google.colab.output.renderOutput(dataTable, element);\n",
              "        const docLink = document.createElement('div');\n",
              "        docLink.innerHTML = docLinkHtml;\n",
              "        element.appendChild(docLink);\n",
              "      }\n",
              "    </script>\n",
              "  </div>\n",
              "\n",
              "\n",
              "<div id=\"df-3abb6a55-4459-43b7-87c5-7e1d1ce81e51\">\n",
              "  <button class=\"colab-df-quickchart\" onclick=\"quickchart('df-3abb6a55-4459-43b7-87c5-7e1d1ce81e51')\"\n",
              "            title=\"Suggest charts.\"\n",
              "            style=\"display:none;\">\n",
              "\n",
              "<svg xmlns=\"http://www.w3.org/2000/svg\" height=\"24px\"viewBox=\"0 0 24 24\"\n",
              "     width=\"24px\">\n",
              "    <g>\n",
              "        <path d=\"M19 3H5c-1.1 0-2 .9-2 2v14c0 1.1.9 2 2 2h14c1.1 0 2-.9 2-2V5c0-1.1-.9-2-2-2zM9 17H7v-7h2v7zm4 0h-2V7h2v10zm4 0h-2v-4h2v4z\"/>\n",
              "    </g>\n",
              "</svg>\n",
              "  </button>\n",
              "\n",
              "<style>\n",
              "  .colab-df-quickchart {\n",
              "      --bg-color: #E8F0FE;\n",
              "      --fill-color: #1967D2;\n",
              "      --hover-bg-color: #E2EBFA;\n",
              "      --hover-fill-color: #174EA6;\n",
              "      --disabled-fill-color: #AAA;\n",
              "      --disabled-bg-color: #DDD;\n",
              "  }\n",
              "\n",
              "  [theme=dark] .colab-df-quickchart {\n",
              "      --bg-color: #3B4455;\n",
              "      --fill-color: #D2E3FC;\n",
              "      --hover-bg-color: #434B5C;\n",
              "      --hover-fill-color: #FFFFFF;\n",
              "      --disabled-bg-color: #3B4455;\n",
              "      --disabled-fill-color: #666;\n",
              "  }\n",
              "\n",
              "  .colab-df-quickchart {\n",
              "    background-color: var(--bg-color);\n",
              "    border: none;\n",
              "    border-radius: 50%;\n",
              "    cursor: pointer;\n",
              "    display: none;\n",
              "    fill: var(--fill-color);\n",
              "    height: 32px;\n",
              "    padding: 0;\n",
              "    width: 32px;\n",
              "  }\n",
              "\n",
              "  .colab-df-quickchart:hover {\n",
              "    background-color: var(--hover-bg-color);\n",
              "    box-shadow: 0 1px 2px rgba(60, 64, 67, 0.3), 0 1px 3px 1px rgba(60, 64, 67, 0.15);\n",
              "    fill: var(--button-hover-fill-color);\n",
              "  }\n",
              "\n",
              "  .colab-df-quickchart-complete:disabled,\n",
              "  .colab-df-quickchart-complete:disabled:hover {\n",
              "    background-color: var(--disabled-bg-color);\n",
              "    fill: var(--disabled-fill-color);\n",
              "    box-shadow: none;\n",
              "  }\n",
              "\n",
              "  .colab-df-spinner {\n",
              "    border: 2px solid var(--fill-color);\n",
              "    border-color: transparent;\n",
              "    border-bottom-color: var(--fill-color);\n",
              "    animation:\n",
              "      spin 1s steps(1) infinite;\n",
              "  }\n",
              "\n",
              "  @keyframes spin {\n",
              "    0% {\n",
              "      border-color: transparent;\n",
              "      border-bottom-color: var(--fill-color);\n",
              "      border-left-color: var(--fill-color);\n",
              "    }\n",
              "    20% {\n",
              "      border-color: transparent;\n",
              "      border-left-color: var(--fill-color);\n",
              "      border-top-color: var(--fill-color);\n",
              "    }\n",
              "    30% {\n",
              "      border-color: transparent;\n",
              "      border-left-color: var(--fill-color);\n",
              "      border-top-color: var(--fill-color);\n",
              "      border-right-color: var(--fill-color);\n",
              "    }\n",
              "    40% {\n",
              "      border-color: transparent;\n",
              "      border-right-color: var(--fill-color);\n",
              "      border-top-color: var(--fill-color);\n",
              "    }\n",
              "    60% {\n",
              "      border-color: transparent;\n",
              "      border-right-color: var(--fill-color);\n",
              "    }\n",
              "    80% {\n",
              "      border-color: transparent;\n",
              "      border-right-color: var(--fill-color);\n",
              "      border-bottom-color: var(--fill-color);\n",
              "    }\n",
              "    90% {\n",
              "      border-color: transparent;\n",
              "      border-bottom-color: var(--fill-color);\n",
              "    }\n",
              "  }\n",
              "</style>\n",
              "\n",
              "  <script>\n",
              "    async function quickchart(key) {\n",
              "      const quickchartButtonEl =\n",
              "        document.querySelector('#' + key + ' button');\n",
              "      quickchartButtonEl.disabled = true;  // To prevent multiple clicks.\n",
              "      quickchartButtonEl.classList.add('colab-df-spinner');\n",
              "      try {\n",
              "        const charts = await google.colab.kernel.invokeFunction(\n",
              "            'suggestCharts', [key], {});\n",
              "      } catch (error) {\n",
              "        console.error('Error during call to suggestCharts:', error);\n",
              "      }\n",
              "      quickchartButtonEl.classList.remove('colab-df-spinner');\n",
              "      quickchartButtonEl.classList.add('colab-df-quickchart-complete');\n",
              "    }\n",
              "    (() => {\n",
              "      let quickchartButtonEl =\n",
              "        document.querySelector('#df-3abb6a55-4459-43b7-87c5-7e1d1ce81e51 button');\n",
              "      quickchartButtonEl.style.display =\n",
              "        google.colab.kernel.accessAllowed ? 'block' : 'none';\n",
              "    })();\n",
              "  </script>\n",
              "</div>\n",
              "    </div>\n",
              "  </div>\n"
            ]
          },
          "metadata": {},
          "execution_count": 8
        }
      ]
    },
    {
      "cell_type": "markdown",
      "source": [
        "### Se guardan las categorías únicas de cada dataset, por un lado las categorías del dataset a estudiar, y por oto lado las de los datasets de refuerzo, para entrenar mejor el algoritmo de reconocimiento de palabras"
      ],
      "metadata": {
        "id": "iRQvyDdkU9HT"
      }
    },
    {
      "cell_type": "code",
      "source": [
        "categorias_existentes = meta_1['category'].unique()"
      ],
      "metadata": {
        "id": "PMFApVNYsBb3"
      },
      "execution_count": null,
      "outputs": []
    },
    {
      "cell_type": "code",
      "source": [
        "categorias_existentes_1 = meta_3['opinion'].unique()"
      ],
      "metadata": {
        "id": "V6e-JZyHwx7J"
      },
      "execution_count": null,
      "outputs": []
    },
    {
      "cell_type": "code",
      "source": [
        "categorias_existentes_2 = meta['category'].unique()"
      ],
      "metadata": {
        "id": "iBlPZBsx5D8E"
      },
      "execution_count": null,
      "outputs": []
    },
    {
      "cell_type": "code",
      "source": [
        "categorias_existentes_2"
      ],
      "metadata": {
        "colab": {
          "base_uri": "https://localhost:8080/"
        },
        "id": "vpk68yT5xu4L",
        "outputId": "0ef14c02-c5ee-4c8b-cef5-95dbf269289e"
      },
      "execution_count": null,
      "outputs": [
        {
          "output_type": "execute_result",
          "data": {
            "text/plain": [
              "array(['Restaurant', 'Bar & grill', 'Cuban restaurant',\n",
              "       'Pizza restaurant', 'Chinese restaurant', 'Italian restaurant',\n",
              "       'Mexican restaurant', 'Seafood restaurant', 'American restaurant',\n",
              "       'Barbecue restaurant', 'Japanese restaurant',\n",
              "       'Fast food restaurant'], dtype=object)"
            ]
          },
          "metadata": {},
          "execution_count": 12
        }
      ]
    },
    {
      "cell_type": "markdown",
      "source": [
        "### Se utiliza el algoritmo KernelDensity que busca la densidad (densidad de probabilidad ) en la coordenadas de los restaurantes"
      ],
      "metadata": {
        "id": "b_AtIFEZdJ4M"
      }
    },
    {
      "cell_type": "markdown",
      "source": [
        "**Aclaración Importante:** Para poder aplicar KDE se debe asumir la independencia de las características, en este caso, de la distribución geográfica de éstas. Esto puede no ser cierto, es decir, la ubicación geográfica de cada restaurante podría estar condicionada por la de otros. Si las ubicaciones de los restaurantes fueran dependientes, es decir, si la presencia de un restaurante afectara la probabilidad de que haya otro restaurante cercano, la estimación de densidad basada en la suposición de independencia sería sesgada. Esto podría conducir a una sobrestimación o subestimación de la densidad en ciertas áreas, lo que afectaría el objetivo principal del modelo. Sin embargo, sería útil saber que existe algún tipo de relación entre estas ubicaciones. En el caso de obtener una densidad sub o sobreestimada, el resultado de alguna manera reflejaría este aspecto, lo cual también sirve para el sistema de recomendaciones."
      ],
      "metadata": {
        "id": "xg23aDrR7CnQ"
      }
    },
    {
      "cell_type": "markdown",
      "source": [
        "### **KDE:**\n",
        "**Inicialización**: Comienza con un conjunto completo de datos que consiste en las ubicaciones de los restaurantes.\n",
        "\n",
        "**Suavización de las Distribuciones:** Para cada ubicación de restaurante, KDE asigna una distribución suavizada utilizando un kernel. La función kernel es una distribución de probabilidad suavizada centrada en cada punto de datos. Por ejemplo, si se usa el kernel gaussiano, KDE crea una campana de Gauss centrada en cada ubicación de restaurante.\n",
        "\n",
        "**Combinación de Distribuciones:** Las distribuciones suavizadas de todas las ubicaciones de los restaurantes se combinan sumándolas para formar una estimación global de la densidad de probabilidad en todo el espacio geográfico. Cada distribución contribuye a la forma general de la estimación final.\n",
        "\n",
        "**Ancho de Banda:** La suavización está controlada por un parámetro llamado ancho de banda (bandwidth). Un ancho de banda pequeño produce una estimación más detallada pero sensible al ruido en los datos, mientras que un ancho de banda grande suaviza demasiado la estimación y puede perder detalles importantes.\n",
        "\n",
        "**Iteración:** En cada iteración, KDE asigna una función kernel (en este caso,  el kernel gaussiano) a cada punto de datos en el conjunto de datos. Esta función kernel es una distribución de probabilidad suavizada centrada en cada punto. Luego, estas funciones kernel se suman para formar una estimación provisional de la densidad de probabilidad.\n",
        "\n",
        "**Actualización:** En cada iteración subsiguiente, las estimaciones previas se actualizan considerando las nuevas funciones kernel y se suman nuevamente para obtener una nueva estimación de la densidad de probabilidad.\n",
        "\n",
        "**Convergencia:** El proceso de iteración se repite hasta que las estimaciones de densidad convergen, es decir, hasta que las diferencias entre las estimaciones sucesivas son pequeñas y la estimación se ha estabilizado.\n",
        "\n",
        "**Resultado Final:** La salida de KDE es una representación continua de la densidad de probabilidad en diferentes áreas geográficas. Las ubicaciones cercanas a los restaurantes tendrán una mayor densidad, mientras que las ubicaciones más alejadas tendrán una menor densidad.\n"
      ],
      "metadata": {
        "id": "V22O0niOc8bh"
      }
    },
    {
      "cell_type": "markdown",
      "source": [
        "#####**En este contexto, es esencial señalar que las distancias entre puntos son relativamente cortas. Aunque la métrica euclidiana podría haber sido aplicada con un margen de error mínimo, se optó por la métrica de Haversine que es más precisa y más aproximada a la curvatura de la tierra. Dado que este modelo es general y puede servir para aplicar a distancias mayores, se tuvo en cuenta esta precaución.**"
      ],
      "metadata": {
        "id": "r6AmyIShk9-9"
      }
    },
    {
      "cell_type": "code",
      "source": [
        "# Se obtienen las coordenadas de todos los restaurantes\n",
        "coordenadas = meta[['latitude', 'longitude']].values\n",
        "\n",
        "# Se inicializa el modelo de Kernel Density Estimation (KDE)\n",
        "kde = KernelDensity(bandwidth=0.01, metric='haversine')\n",
        "\n",
        "# Se ajusta el modelo a las coordenadas de los restaurantes\n",
        "kde.fit(np.radians(coordenadas))\n",
        "\n",
        "# Se calcula las densidades para todas las coordenadas de los restaurantes\n",
        "densidades = kde.score_samples(np.radians(coordenadas))\n",
        "\n",
        "# Se agregan la columna de densidad al DataFrame \"meta\"\n",
        "meta['densidad'] = densidades\n"
      ],
      "metadata": {
        "id": "NC_FStdXb1Xd"
      },
      "execution_count": null,
      "outputs": []
    },
    {
      "cell_type": "markdown",
      "source": [
        "###**Código**\n",
        "- Se obtienen las coordenadas de todos los restaurantes reales desde el dataframe a estudiar. Estas coordenadas se almacenan en la variable coordenadas.\n",
        "\n",
        "- Se inicializa el modelo de Kernel Density Estimation (KDE) con un ancho de banda (bandwidth) de 0.01 y una métrica de distancia \"haversine\". El ancho de banda controla la suavización de la estimación de densidad.\n",
        "\n",
        "- El modelo de KDE se ajusta a las coordenadas de los restaurantes reales utilizando la función fit.\n",
        "\n",
        "- Se calcula la densidad para todas las coordenadas de los restaurantes reales utilizando la función score_samples. Esto proporciona una estimación continua de la densidad de restaurantes en función de las ubicaciones geográficas de los restaurantes reales."
      ],
      "metadata": {
        "id": "6C5KSqFD1xqe"
      }
    },
    {
      "cell_type": "markdown",
      "source": [
        "### Se cambia el formato de la columna \"avg_rating\" a numérico"
      ],
      "metadata": {
        "id": "_B5a6VqePPwP"
      }
    },
    {
      "cell_type": "code",
      "source": [
        "meta['avg_rating'] = pd.to_numeric(meta['avg_rating'], errors='coerce')\n"
      ],
      "metadata": {
        "id": "bVZyPMJXPV93"
      },
      "execution_count": null,
      "outputs": []
    },
    {
      "cell_type": "markdown",
      "source": [
        "### Se entrena un modelo de búsqueda de palabras similares llamado Word2Vec"
      ],
      "metadata": {
        "id": "CYFaDidCTKym"
      }
    },
    {
      "cell_type": "markdown",
      "source": [
        "Objetivo: Word2Vec Continuous Bag of Words (CBOW) ( arquitectura de red neuronal ) busca aprender representaciones vectoriales (vectores de palabras) a partir de un gran conjunto de textos.\n",
        "\n",
        "Proceso:\n",
        "\n",
        "- Representación One-Hot: Cada palabra se representa como un vector one-hot (todos ceros, excepto un uno en la posición correspondiente a la palabra).\n",
        "\n",
        "- Capa Oculta: Utiliza una capa oculta con pesos que se ajustan durante el entrenamiento. Estos pesos forman los vectores de palabras.\n",
        "\n",
        "- Predicción del Contexto: El modelo intenta predecir las palabras circundantes (contexto) a partir de una palabra central. Usa una función softmax para calcular las probabilidades de contexto.\n",
        "\n",
        "- Función de Pérdida: La función de pérdida se calcula en la capa de salida, que es la capa final del modelo CBOW. Se compara la predicción del modelo (las probabilidades de las palabras de contexto) con el contexto real del corpus (las palabras de contexto reales). La entropía cruzada es una medida comúnmente utilizada para calcular esta pérdida. La pérdida mide cuán bien se están realizando las predicciones en la capa de salida.\n",
        "\n",
        "- Optimización de los pesos: Se utiliza el algoritmo del descenso de gradiente, para ajustar los pesos de la capa oculta y mejorar la predicción.\n",
        "\n",
        "- Iteración: Repite el proceso con diferentes pares de palabras en el corpus para mejorar gradualmente las representaciones vectoriales de las palabras.\n",
        "\n",
        "\n",
        "\n",
        "\n",
        "\n"
      ],
      "metadata": {
        "id": "fs5r6TusWYw0"
      }
    },
    {
      "cell_type": "markdown",
      "source": [
        "**En definitiva, Word2Vec busca un espacio vectorial adecuado para representar un conjunto de palabras, mapeándolas con vectores. Esto lo logra a través de un modelo de redes neuronales, como se explicó brevemente.**"
      ],
      "metadata": {
        "id": "eJ1761NNBian"
      }
    },
    {
      "cell_type": "markdown",
      "source": [
        "### Se entrenan con palabras para los 3 datasets"
      ],
      "metadata": {
        "id": "2UBnfSVKcN7J"
      }
    },
    {
      "cell_type": "code",
      "source": [
        "# Primer conjunto de datos (categorias_tokenizadas)\n",
        "categorias_limpio = [re.sub(r'[^\\w\\s]', '', category) for category in categorias_existentes]\n",
        "categorias_tokenizadas = [word_tokenize(category) for category in categorias_limpio]\n",
        "\n",
        "# Segundo conjunto de datos (categorias_existentes_1)\n",
        "categorias_existentes_1 = [item for item in categorias_existentes_1 if isinstance(item, str)]  # Se filtran cadenas de texto\n",
        "categorias_limpio_1 = [re.sub(r'[^\\w\\s]', '', category) for category in categorias_existentes_1]\n",
        "categorias_tokenizadas_1 = [word_tokenize(category) for category in categorias_limpio_1]\n",
        "\n",
        "# Tercer conjunto de datos (categorias_existentes_3, este es el dataset a estudiar)\n",
        "categorias_existentes_2 = [item for item in categorias_existentes_2 if isinstance(item, str)]  # Se filtran cadenas de texto\n",
        "categorias_limpio_2 = [re.sub(r'[^\\w\\s]', '', category) for category in categorias_existentes_2]\n",
        "categorias_tokenizadas_2 = [word_tokenize(category) for category in categorias_limpio_2]\n",
        "\n",
        "# Se combinan todas las listas de listas de tokens\n",
        "todos_tokens = categorias_tokenizadas + categorias_tokenizadas_1 + categorias_tokenizadas_2\n",
        "\n",
        "# Se entrena el modelo Word2Vec en todos los tokens\n",
        "model = Word2Vec(todos_tokens, vector_size=300, window=5, min_count=5, sg=0)"
      ],
      "metadata": {
        "id": "F_AeZIOQTJ4M"
      },
      "execution_count": null,
      "outputs": []
    },
    {
      "cell_type": "markdown",
      "source": [
        "**Aclaraciones:**\n",
        "- vector_size=300 es la cantidad de neuronas que recibe la capa oculta.\n",
        "- windows = 5 significa que toma 5 palabras adyacentes para darle contexto para predecir la palabra central. En definitiva, el parámetro windows controla cuán lejos o cerca se buscan palabras para determinar el contexto de una palabra dada.\n",
        "- min_count=5 indica la cantidad de veces que deben aparecer las palabras que tomará el algoritmo como mínimo. Si hay menos no las incluye.\n",
        "- sg=0 es el tipo de modelo que se entrena, en este caso es Continuous Bag of Words (CBOW)"
      ],
      "metadata": {
        "id": "avbmX74jYuN7"
      }
    },
    {
      "cell_type": "markdown",
      "source": [
        "### **Métricas de comparación entre palabras entrenadas por el modelo y palabras que figuran en este dataset a estudiar**"
      ],
      "metadata": {
        "id": "2J2Xb0452uTu"
      }
    },
    {
      "cell_type": "markdown",
      "source": [
        "###**Aclaraciones:**\n",
        "- La similitudes que encuentra el modelo son de carácter semántico, por lo que pueden tener algunas similitudes en el contexto en el que aparecieron en los datos de entrenamiento alrededor de la palabra buscada, lo cual puede ser útil si uno quiere encontrar relaciones implícitas en los datos.\n",
        "\n",
        "**Métricas a evaluar:**\n",
        "\n",
        "- **Similitud del coseno** Matemáticamente, se define como el coseno del ángulo entre los dos vectores. Esta fórmula es bien conocida y se calcula mediante el producto escalar de los dos vectores a comparar, ambos normalizados. El resultado varía, por lo tanto, entre -1 y 1. Si da 1 significa que su ángulo es de 0 grados, lo que implicaría un alto grado de similitud vectorial. En cambio, si  da 1, es porque su ángulo es de 90 grados y no hay similitud vectrial alguna. Cabe aclarar que la norma utilizada para normalizar los vectores es la norma 2 ( norma euclidiana ). Las ventajas de esta métrica son:\n",
        "- La robustez frente a las dimensiones de los vectores, dado que los vectores se normalizan, se relativizan las escalas.\n",
        "- Capta similitudes angulares de forma implícita. Si bien arroja el coseno del ángulo, esto muestra qué tan cercanos o no son estos vectores en términos de ángulos.\n",
        "\n",
        "- **Distancia Euclidiana:** Esta métrica mide la distancia directa entre dos puntos en un espacio euclidiano. Cuanto menor sea el valor, más cercanos son los puntos en el espacio. A diferencia de la similitud del coseno, esta métrica tiene en cuenta explícitamente las dimensiones de los vectores, por lo que , mientras más dimensiones tengan los vectores, arrojará resultados numéricos mayores."
      ],
      "metadata": {
        "id": "W4udj4iJ7dh_"
      }
    },
    {
      "cell_type": "code",
      "source": [
        "# Lista de las primeras palabras que aparecen en el listado de categorías, del dataset que se estudias.\n",
        "palabras = [\"Restaurant\", \"Bar\", \"Cuban\", \"Pizza\", \"Chinese\",\n",
        "           \"Italian\", \"Mexican\", \"Seafood\", \"American\",\n",
        "           \"Barbecue\", \"Japanese\", \"Fast\"]\n",
        "\n",
        "# Se obtienen todas las palabras en el vocabulario del modelo\n",
        "palabras_en_modelo = list(model.wv.key_to_index.keys())\n",
        "\n",
        "# Función para calcular la mejor métrica de similitud para una palabra\n",
        "def calcular_mejor_metrica(palabra):\n",
        "    palabra = palabra.strip()  # Se eliminan espacios en blanco al principio y al final\n",
        "\n",
        "    # Se verifica si la palabra está en el vocabulario del modelo\n",
        "    if palabra not in palabras_en_modelo:\n",
        "        return None  # Si la palabra no está en el modelo, retorna None\n",
        "\n",
        "    mejor_similitud = -1  # Se inicializa la mejor similitud con un valor bajo\n",
        "    mejor_metrica = None\n",
        "\n",
        "    # Se calculan métricas para la palabra en comparación con todas las palabras en el modelo\n",
        "    for palabra_en_modelo in palabras_en_modelo:\n",
        "        if palabra_en_modelo == palabra:\n",
        "            continue  # No compara la palabra consigo misma\n",
        "\n",
        "        vec1 = model.wv[palabra]\n",
        "        vec2 = model.wv[palabra_en_modelo]\n",
        "\n",
        "        # Se calcula la similitud de coseno\n",
        "        cos_similarity = cosine_similarity([vec1], [vec2])[0][0]\n",
        "        # Se calcula la distancia euclidiana\n",
        "        euclidean_dist = distance.euclidean(vec1, vec2)\n",
        "\n",
        "        # Se determina si esta métrica es la mejor hasta ahora\n",
        "        if cos_similarity > mejor_similitud:\n",
        "            mejor_similitud = cos_similarity\n",
        "            mejor_metrica = {\n",
        "                \"palabra1\": palabra,\n",
        "                \"palabra2\": palabra_en_modelo,\n",
        "                \"cos_similarity\": cos_similarity,\n",
        "                \"euclidean_dist\": euclidean_dist\n",
        "            }\n",
        "\n",
        "    return mejor_metrica\n",
        "\n",
        "# Se calcula y mostrar las mejores métricas para todas las palabras en la lista\n",
        "for palabra in palabras:\n",
        "    mejor_metrica = calcular_mejor_metrica(palabra)\n",
        "    if mejor_metrica:\n",
        "        print(f\"Mejor aproximación a '{mejor_metrica['palabra1']}': '{mejor_metrica['palabra2']}'\")\n",
        "        print(f\"Similitud de Coseno: {mejor_metrica['cos_similarity']}\")\n",
        "        print(f\"Distancia Euclidiana: {mejor_metrica['euclidean_dist']}\")\n",
        "        print(\"=\" * 50)\n",
        "\n"
      ],
      "metadata": {
        "id": "LCExYogzsjkz",
        "colab": {
          "base_uri": "https://localhost:8080/"
        },
        "outputId": "395cf3be-d5c8-455d-cd0e-668d50fd4e97"
      },
      "execution_count": null,
      "outputs": [
        {
          "output_type": "stream",
          "name": "stdout",
          "text": [
            "Mejor aproximación a 'Restaurant': 'Deli'\n",
            "Similitud de Coseno: 0.602918267250061\n",
            "Distancia Euclidiana: 14.326044082641602\n",
            "==================================================\n",
            "Mejor aproximación a 'Bar': 'Lounge'\n",
            "Similitud de Coseno: 0.6970359683036804\n",
            "Distancia Euclidiana: 12.745195388793945\n",
            "==================================================\n",
            "Mejor aproximación a 'Cuban': 'cuban'\n",
            "Similitud de Coseno: 0.8357378840446472\n",
            "Distancia Euclidiana: 8.830263137817383\n",
            "==================================================\n",
            "Mejor aproximación a 'Pizza': 'pizza'\n",
            "Similitud de Coseno: 0.6901898384094238\n",
            "Distancia Euclidiana: 14.929203033447266\n",
            "==================================================\n",
            "Mejor aproximación a 'Chinese': 'chinese'\n",
            "Similitud de Coseno: 0.8030151724815369\n",
            "Distancia Euclidiana: 11.152374267578125\n",
            "==================================================\n",
            "Mejor aproximación a 'Italian': 'italian'\n",
            "Similitud de Coseno: 0.823211669921875\n",
            "Distancia Euclidiana: 10.4254789352417\n",
            "==================================================\n",
            "Mejor aproximación a 'Mexican': 'mexican'\n",
            "Similitud de Coseno: 0.8226906061172485\n",
            "Distancia Euclidiana: 9.373176574707031\n",
            "==================================================\n",
            "Mejor aproximación a 'Seafood': 'Sushi'\n",
            "Similitud de Coseno: 0.7641817927360535\n",
            "Distancia Euclidiana: 7.827583312988281\n",
            "==================================================\n",
            "Mejor aproximación a 'American': 'american'\n",
            "Similitud de Coseno: 0.6272432208061218\n",
            "Distancia Euclidiana: 14.148836135864258\n",
            "==================================================\n",
            "Mejor aproximación a 'Barbecue': 'Cheesesteak'\n",
            "Similitud de Coseno: 0.7842459082603455\n",
            "Distancia Euclidiana: 5.111968040466309\n",
            "==================================================\n",
            "Mejor aproximación a 'Japanese': 'Peruvian'\n",
            "Similitud de Coseno: 0.7615423202514648\n",
            "Distancia Euclidiana: 7.092356204986572\n",
            "==================================================\n",
            "Mejor aproximación a 'Fast': 'Quick'\n",
            "Similitud de Coseno: 0.8032175302505493\n",
            "Distancia Euclidiana: 11.762121200561523\n",
            "==================================================\n"
          ]
        }
      ]
    },
    {
      "cell_type": "markdown",
      "source": [
        "### **A continuación se comentan algunas similitudes halladas:**"
      ],
      "metadata": {
        "id": "ij5o4_QBH6Z_"
      }
    },
    {
      "cell_type": "markdown",
      "source": [
        "- **'Fast': 'Quick'**Ambas palabras tienen significados similares y a menudo se utilizan indistintamente en ciertos contextos. Por ejemplo, en el contexto de comida rápida, tanto 'Fast' como 'Quick' se utilizan para describir comidas que se preparan y sirven rápidamente.\n",
        "- **\"Seafood\" con \"Sushi\"** : La asociación tiene sentido en términos de similitud semántica, ya que ambas palabras están relacionadas con alimentos marinos. \"Seafood\" es un término amplio que abarca varios tipos de alimentos que provienen del mar, como pescado, camarones, cangrejos, entre otros. \"Sushi\" es una variedad específica de comida japonesa que a menudo incluye pescado crudo, por lo que se encuentra dentro de la categoría de \"Seafood\".\n",
        "- **\"Bar\" y \"Lounge\"** También tiene sentido en términos de similitud semántica. Un \"Bar\" y un \"Lounge\" son lugares similares en el sentido de que ambos son establecimientos donde las personas pueden socializar, relajarse y disfrutar de bebidas y picar algo. A menudo, los \"Lounge\" se asocian con un ambiente más relajado y cómodo, mientras que los \"Bares\" pueden variar en estilo y ambiente. Esta asociación sugiere que en el corpus de texto utilizado para entrenar el modelo Word2Vec, es común que las palabras \"Bar\" y \"Lounge\" aparezcan en contextos relacionados o cerca una de la otra."
      ],
      "metadata": {
        "id": "DQS-9jh-HQiS"
      }
    },
    {
      "cell_type": "markdown",
      "source": [
        "### Se guarda el modelo entrenado con el dataset"
      ],
      "metadata": {
        "id": "5d1bIWshVKO6"
      }
    },
    {
      "cell_type": "code",
      "source": [
        "model.save(\"modelo_word2vec.bin\")"
      ],
      "metadata": {
        "id": "ucBwqc_uRcpn"
      },
      "execution_count": null,
      "outputs": []
    },
    {
      "cell_type": "code",
      "source": [
        "# Se carga el modelo y los archivos auxiliares\n",
        "# model = Word2Vec.load('modelo_word2vec.bin')\n",
        "# model.wv.vectors = model.wv.vectors.astype('float32') # se cambian a formato float32\n",
        "# model.wv.init_sims(replace=True)  # se normalizan para ahorrar memoria\n"
      ],
      "metadata": {
        "id": "WpTsOwDfARlb"
      },
      "execution_count": null,
      "outputs": []
    },
    {
      "cell_type": "markdown",
      "source": [
        "### Se prueba el algoritmo entrenado"
      ],
      "metadata": {
        "id": "q_HROv6MTZC3"
      }
    },
    {
      "cell_type": "markdown",
      "source": [
        "**Aclaraciones:**\n",
        "- Se utiliza el modelo entrenado en los pasos anteriores.\n",
        "- Una vez ingresada la palabra por el usuario, utiliza el método de similitud del coseno para hallar similitudes.\n",
        "- Además de filtrar por el reconocimiento del modelo, también se busca la palabra que el usuario ingresó literalmente, para favorecer la búsqueda.\n",
        "- Es ideal que por un lado se muestren los resultados de similitudes y relación presentadas por el algoritmo, así como también la búsqueda de la palabra que literalmente ingresó el usuario, para mejorar y personalizar la búsqueda."
      ],
      "metadata": {
        "id": "2SgdgC3Ycrss"
      }
    },
    {
      "cell_type": "code",
      "source": [
        "# Se obtiene la palabra ingresada por el usuario\n",
        "palabra = input(\"Ingresa una palabra: \")\n",
        "\n",
        "# Se limpia la palabra ingresada por el usuario\n",
        "palabra = re.sub(r'[^\\w\\s]', '', palabra)\n",
        "\n",
        "# Se entrena la palabra más cercana según la similitud del coseno\n",
        "try:\n",
        "    palabra_similar, similaridad = model.wv.most_similar(palabra, topn=1)[0]\n",
        "    print(f\"además de '{palabra}' se sugiere buscar '{palabra_similar}' con una similitud de coseno de {similaridad:.2f}\")\n",
        "\n",
        "    # Se filtra las categorías que contienen la palabra similar\n",
        "    categorias_con_palabra = [categoria for categoria in categorias_existentes if palabra_similar in categoria]\n",
        "\n",
        "    # Se filtra el DataFrame 'meta' por las categorías encontradas\n",
        "    meta_filtro = meta[meta['category'].isin(categorias_con_palabra)]\n",
        "\n",
        "    # También se filtra por restaurantes que contengan la palabra buscada en la columna 'category'\n",
        "    restaurantes_con_palabra = meta[meta['category'].str.contains(palabra, case=False)]\n",
        "\n",
        "    # Se concatena la palabra ingresada por el usuario a la lista de palabras similares\n",
        "    palabras_similares = [palabra_similar] if palabra_similar else []\n",
        "    palabras_similares.append(palabra)\n",
        "\n",
        "    # Se agrega la palabra literalmente ingresada por el usuario al DataFrame\n",
        "    palabra_df = pd.DataFrame({'category': [palabra]*len(restaurantes_con_palabra)})\n",
        "    meta_filtro = pd.concat([meta_filtro, restaurantes_con_palabra, palabra_df])\n",
        "\n",
        "except KeyError:\n",
        "    print(f\"'{palabra}' no se ha logrado encontrar alguna asociación con la palabra ingresada.\")\n"
      ],
      "metadata": {
        "id": "sopimuIN-uTg",
        "colab": {
          "base_uri": "https://localhost:8080/"
        },
        "outputId": "c254a8ad-218b-429f-d9ec-35191b096ccc"
      },
      "execution_count": null,
      "outputs": [
        {
          "output_type": "stream",
          "name": "stdout",
          "text": [
            "Ingresa una palabra: Italian\n",
            "además de 'Italian' se sugiere buscar 'italian' con una similitud de coseno de 0.82\n"
          ]
        }
      ]
    },
    {
      "cell_type": "markdown",
      "source": [
        "**Funcionamiento del código:**\n",
        "- El usuario ingresa una palabra y se asegura de que esté limpia de caracteres no deseados.\n",
        "- Luego, utiliza el modelo de Word Embeddings (model.wv) para encontrar la palabra más cercana en términos de similitud de coseno a la palabra ingresada por el usuario.\n",
        "- Filtra las categorías que contienen la palabra similar encontrada.\n",
        "- Filtra el DataFrame meta por categorías relacionadas y también por restaurantes que contienen la palabra buscada en la columna 'category'.\n",
        "- Concatena la palabra similar encontrada y la palabra ingresada por el usuario a la lista de palabras similares.\n",
        "- Agrega la palabra ingresada por el usuario al DataFrame meta_filtro."
      ],
      "metadata": {
        "id": "phZUTvzt1bvp"
      }
    },
    {
      "cell_type": "markdown",
      "source": [
        "### **Ensamble**: Se utiliza el algoritmo entrenado para mostrar los restaurantes más recomendados, utilizando la optimización de una suma ponderada, que vincula las características \"densidad\" \"puntaje\" y \"número de reviews\" con el metodo del descenso del gradiente"
      ],
      "metadata": {
        "id": "JuF98vCY-vgm"
      }
    },
    {
      "cell_type": "markdown",
      "source": [
        "### **Función a optimizar**:"
      ],
      "metadata": {
        "id": "r-RKm5zV7lg0"
      }
    },
    {
      "cell_type": "markdown",
      "source": [
        "### puntuación restaurante = peso_puntaje * puntaje_normalizado + peso_densidad * densidad_normalizada + peso_nºreviews * nº_reviews_normalizado"
      ],
      "metadata": {
        "id": "Ov3apOGl6_3q"
      }
    },
    {
      "cell_type": "markdown",
      "source": [
        "### **A continuación se utiliza el método de optimización SLSQP, para ptimizar los pesos donde, en este caso sólo se impone la restricción de que estos sean positivos.**"
      ],
      "metadata": {
        "id": "5pXgdzN2oPnA"
      }
    },
    {
      "cell_type": "code",
      "source": [
        "# Seleccionar las columnas que se van a normalizar\n",
        "columnas_a_normalizar = ['avg_rating', 'densidad', 'num_of_reviews']\n",
        "\n",
        "# Copiar los datos originales para mantener los valores sin normalizar\n",
        "datos_normalizados = meta_filtro.copy()\n",
        "\n",
        "# Normalizar las columnas una por una\n",
        "for columna in columnas_a_normalizar:\n",
        "    # Crear un escalador para la columna actual\n",
        "    escalador = MinMaxScaler(feature_range=(0, 1))\n",
        "    # Añadir una nueva columna con los valores normalizados\n",
        "    datos_normalizados[f'{columna}_normalizado'] = escalador.fit_transform(meta_filtro[[columna]])\n",
        "\n",
        "# Pesos iniciales en el rango [0, 1]\n",
        "pesos_iniciales = [0.25, 0.25, 0.25]  # Valores iniciales de los pesos\n",
        "\n",
        "# Definir la función objetivo para minimizar\n",
        "def funcion_objetivo(pesos):\n",
        "    puntuacion_restaurante = (\n",
        "        pesos[0] * datos_normalizados['densidad_normalizado'] +\n",
        "        pesos[1] * datos_normalizados['avg_rating_normalizado'] +\n",
        "        pesos[2] * datos_normalizados['num_of_reviews_normalizado']\n",
        "    )\n",
        "    return -puntuacion_restaurante.sum()\n",
        "\n",
        "# Definir las restricciones de los pesos (en este caso, positivos)\n",
        "restricciones = [{'type': 'ineq', 'fun': lambda w: w[i]} for i in range(len(pesos_iniciales))]\n",
        "\n",
        "# Definir la tolerancia para la convergencia\n",
        "tolerancia = 1e-6\n",
        "\n",
        "# Definir las opciones para el algoritmo\n",
        "opciones = {'disp': True, 'gtol': tolerancia}\n",
        "\n",
        "# Variables para almacenar los valores de los pesos durante las iteraciones\n",
        "historial_pesos = []\n",
        "\n",
        "# Función para capturar los valores de los pesos en cada iteración\n",
        "def capturar_pesos(x):\n",
        "    historial_pesos.append((x[0], x[1], x[2]))\n",
        "\n",
        "# Optimizar los pesos usando el algoritmo de Descenso del Gradiente con las opciones definidas\n",
        "resultado = minimize(funcion_objetivo, pesos_iniciales, constraints=restricciones, options=opciones, callback=capturar_pesos)\n",
        "\n",
        "# Obtener los pesos optimizados\n",
        "pesos_optimizados = resultado.x\n",
        "\n",
        "# Calcular la puntuación_restaurante con los pesos optimizados\n",
        "datos_normalizados['puntuacion_restaurante'] = (\n",
        "    pesos_optimizados[0] * datos_normalizados['densidad_normalizado'] +\n",
        "    pesos_optimizados[1] * datos_normalizados['avg_rating_normalizado'] +\n",
        "    pesos_optimizados[2] * datos_normalizados['num_of_reviews_normalizado']\n",
        ")\n",
        "\n",
        "# Redondear los valores a 7 decimales\n",
        "datos_normalizados['puntuacion_restaurante'] = datos_normalizados['puntuacion_restaurante'].round(7)\n",
        "\n",
        "# Ordenar el DataFrame en función de la puntuación restaurante en orden decreciente\n",
        "datos_ordenados = datos_normalizados.sort_values(by='puntuacion_restaurante', ascending=False)\n",
        "\n",
        "# Imprimir los pesos optimizados\n",
        "print(\"Pesos Optimizados:\")\n",
        "for i, peso in enumerate(pesos_optimizados, start=1):\n",
        "    print(f\"Peso {i}: {peso}\")\n",
        "\n",
        "# Imprimir el número de iteraciones realizadas\n",
        "print(f\"Número de iteraciones realizadas: {resultado.nit}\")\n",
        "\n",
        "# Extraer los valores de los pesos para el gráfico de convergencia\n",
        "peso1_historial, peso2_historial, peso3_historial = zip(*historial_pesos)\n",
        "\n",
        "# Gráfico de convergencia de los pesos\n",
        "plt.figure(figsize=(10, 6))\n",
        "plt.plot(peso1_historial, label='Peso 1', marker='o')\n",
        "plt.plot(peso2_historial, label='Peso 2', marker='x')\n",
        "plt.plot(peso3_historial, label='Peso 3', marker='s')\n",
        "plt.xlabel('Iteraciones')\n",
        "plt.ylabel('Valor de los Pesos')\n",
        "plt.legend()\n",
        "plt.title('Convergencia de los Pesos')\n",
        "plt.grid(True)\n",
        "plt.show()\n",
        "\n"
      ],
      "metadata": {
        "id": "bM1r7rnPxN24",
        "colab": {
          "base_uri": "https://localhost:8080/",
          "height": 738
        },
        "outputId": "38012c21-b890-4e96-eb5b-7f60a8b45b29"
      },
      "execution_count": null,
      "outputs": [
        {
          "output_type": "stream",
          "name": "stdout",
          "text": [
            "Singular matrix E in LSQ subproblem    (Exit mode 5)\n",
            "            Current function value: -3.2646059038187353e+34\n",
            "            Iterations: 48\n",
            "            Function evaluations: 192\n",
            "            Gradient evaluations: 48\n",
            "Pesos Optimizados:\n",
            "Peso 1: 9.567500927301737e+32\n",
            "Peso 2: 1.1360371443669498e+33\n",
            "Peso 3: 9.057960997245599e+31\n",
            "Número de iteraciones realizadas: 48\n"
          ]
        },
        {
          "output_type": "display_data",
          "data": {
            "text/plain": [
              "<Figure size 1000x600 with 1 Axes>"
            ],
            "image/png": "[encoded data removed]"
          },
          "metadata": {}
        }
      ]
    },
    {
      "cell_type": "markdown",
      "source": [
        "**Aclaraciones**:\n",
        "- Las categorías \"densidad\", \"puntaje\" y \"nº de reviews\" se reescalan entre 0 y 1. No se utilizó z-score porque las distribuciones de los datos no son normales.\n",
        "- Los pesos sólo tienen la restricción de ser valores positivos.\n",
        "- En base a la palabra clave que ingresó el usuario, se mostrarán qué características son las mejores puntuadas de forma intrínseca en el conjunto de datos. Por ejemplo, si resalta más la característica \"puntaje\" respecto de las otras, significa que predominan los buenos puntajes frente a la densidad y al nº de reviews, para este subconjunto de datos."
      ],
      "metadata": {
        "id": "uXUwtw4NdWZy"
      }
    },
    {
      "cell_type": "markdown",
      "source": [
        "**Aclaración**: Como se puede observar, orden de importancia de las características varía de acuerdo a la elección de palabra hecha por el usuario. Probablemente, para otra elección de categoría se obtenga otro orden de importancia de las características."
      ],
      "metadata": {
        "id": "ar8pl5p61ATW"
      }
    },
    {
      "cell_type": "markdown",
      "source": [
        "**Se observa que el orden de iportancia de los pesos es el mismo que el utilizado en el método anterior**"
      ],
      "metadata": {
        "id": "yXem9msAo6LX"
      }
    },
    {
      "cell_type": "code",
      "source": [
        "meta_ordenado.head(3)"
      ],
      "metadata": {
        "id": "65DgB6sk0liy",
        "colab": {
          "base_uri": "https://localhost:8080/",
          "height": 337
        },
        "outputId": "80135450-a95c-43a1-a94e-3a67859fe221"
      },
      "execution_count": null,
      "outputs": [
        {
          "output_type": "execute_result",
          "data": {
            "text/plain": [
              "                              local_name  \\\n",
              "322  MONALISA PIZERIA ITALIAN RESTAURANT   \n",
              "325                 Caffé Paradiso Miami   \n",
              "860                      Casa Tua Cucina   \n",
              "\n",
              "                                               address  \\\n",
              "322  MONALISA PIZERIA ITALIAN RESTAURANT, 4753 SW 8...   \n",
              "325  Caffé Paradiso Miami, 114 NE 20th Terrace, Mia...   \n",
              "860  Casa Tua Cucina, 70 SW 7th St, Miami, FL 33130...   \n",
              "\n",
              "                                   gmap_id   latitude  longitude  \\\n",
              "322  0x88d9b7586c7923a5:0xa13568758d12b078  25.764368 -80.272756   \n",
              "325  0x88d9b7d591e60669:0xd36cf00540e1407d  25.795828 -80.192323   \n",
              "860  0x88d9b684949c6fa1:0x5da9b5c4bd240d6b  25.767178 -80.194322   \n",
              "\n",
              "               category  avg_rating  num_of_reviews  apto_sillas_de_ruedas  \\\n",
              "322  Italian restaurant         4.8            25.0                    1.0   \n",
              "325  Italian restaurant         5.0             2.0                    1.0   \n",
              "860  Italian restaurant         4.5          2418.0                    1.0   \n",
              "\n",
              "     atmosfera_agradable  apto_grupos_grandes  solo_efectivo state   City  \\\n",
              "322                  1.0                  1.0            0.0    FL  Miami   \n",
              "325                  1.0                  1.0            0.0    FL  Miami   \n",
              "860                  1.0                  1.0            0.0    FL  Miami   \n",
              "\n",
              "     densidad  avg_rating_normalized  densidad_normalized  \\\n",
              "322  7.354743                  0.950             1.000000   \n",
              "325  7.343521                  1.000             0.829463   \n",
              "860  7.345700                  0.875             0.862582   \n",
              "\n",
              "     num_of_reviews_normalized  puntuacion_restaurante  \n",
              "322                   0.009930            2.036885e+33  \n",
              "325                   0.000414            1.929663e+33  \n",
              "860                   1.000000            1.909887e+33  "
            ],
            "text/html": [
              "\n",
              "  <div id=\"df-208e00ca-d42d-4d94-9fac-f19daa6f0f82\" class=\"colab-df-container\">\n",
              "    <div>\n",
              "<style scoped>\n",
              "    .dataframe tbody tr th:only-of-type {\n",
              "        vertical-align: middle;\n",
              "    }\n",
              "\n",
              "    .dataframe tbody tr th {\n",
              "        vertical-align: top;\n",
              "    }\n",
              "\n",
              "    .dataframe thead th {\n",
              "        text-align: right;\n",
              "    }\n",
              "</style>\n",
              "<table border=\"1\" class=\"dataframe\">\n",
              "  <thead>\n",
              "    <tr style=\"text-align: right;\">\n",
              "      <th></th>\n",
              "      <th>local_name</th>\n",
              "      <th>address</th>\n",
              "      <th>gmap_id</th>\n",
              "      <th>latitude</th>\n",
              "      <th>longitude</th>\n",
              "      <th>category</th>\n",
              "      <th>avg_rating</th>\n",
              "      <th>num_of_reviews</th>\n",
              "      <th>apto_sillas_de_ruedas</th>\n",
              "      <th>atmosfera_agradable</th>\n",
              "      <th>apto_grupos_grandes</th>\n",
              "      <th>solo_efectivo</th>\n",
              "      <th>state</th>\n",
              "      <th>City</th>\n",
              "      <th>densidad</th>\n",
              "      <th>avg_rating_normalized</th>\n",
              "      <th>densidad_normalized</th>\n",
              "      <th>num_of_reviews_normalized</th>\n",
              "      <th>puntuacion_restaurante</th>\n",
              "    </tr>\n",
              "  </thead>\n",
              "  <tbody>\n",
              "    <tr>\n",
              "      <th>322</th>\n",
              "      <td>MONALISA PIZERIA ITALIAN RESTAURANT</td>\n",
              "      <td>MONALISA PIZERIA ITALIAN RESTAURANT, 4753 SW 8...</td>\n",
              "      <td>0x88d9b7586c7923a5:0xa13568758d12b078</td>\n",
              "      <td>25.764368</td>\n",
              "      <td>-80.272756</td>\n",
              "      <td>Italian restaurant</td>\n",
              "      <td>4.8</td>\n",
              "      <td>25.0</td>\n",
              "      <td>1.0</td>\n",
              "      <td>1.0</td>\n",
              "      <td>1.0</td>\n",
              "      <td>0.0</td>\n",
              "      <td>FL</td>\n",
              "      <td>Miami</td>\n",
              "      <td>7.354743</td>\n",
              "      <td>0.950</td>\n",
              "      <td>1.000000</td>\n",
              "      <td>0.009930</td>\n",
              "      <td>2.036885e+33</td>\n",
              "    </tr>\n",
              "    <tr>\n",
              "      <th>325</th>\n",
              "      <td>Caffé Paradiso Miami</td>\n",
              "      <td>Caffé Paradiso Miami, 114 NE 20th Terrace, Mia...</td>\n",
              "      <td>0x88d9b7d591e60669:0xd36cf00540e1407d</td>\n",
              "      <td>25.795828</td>\n",
              "      <td>-80.192323</td>\n",
              "      <td>Italian restaurant</td>\n",
              "      <td>5.0</td>\n",
              "      <td>2.0</td>\n",
              "      <td>1.0</td>\n",
              "      <td>1.0</td>\n",
              "      <td>1.0</td>\n",
              "      <td>0.0</td>\n",
              "      <td>FL</td>\n",
              "      <td>Miami</td>\n",
              "      <td>7.343521</td>\n",
              "      <td>1.000</td>\n",
              "      <td>0.829463</td>\n",
              "      <td>0.000414</td>\n",
              "      <td>1.929663e+33</td>\n",
              "    </tr>\n",
              "    <tr>\n",
              "      <th>860</th>\n",
              "      <td>Casa Tua Cucina</td>\n",
              "      <td>Casa Tua Cucina, 70 SW 7th St, Miami, FL 33130...</td>\n",
              "      <td>0x88d9b684949c6fa1:0x5da9b5c4bd240d6b</td>\n",
              "      <td>25.767178</td>\n",
              "      <td>-80.194322</td>\n",
              "      <td>Italian restaurant</td>\n",
              "      <td>4.5</td>\n",
              "      <td>2418.0</td>\n",
              "      <td>1.0</td>\n",
              "      <td>1.0</td>\n",
              "      <td>1.0</td>\n",
              "      <td>0.0</td>\n",
              "      <td>FL</td>\n",
              "      <td>Miami</td>\n",
              "      <td>7.345700</td>\n",
              "      <td>0.875</td>\n",
              "      <td>0.862582</td>\n",
              "      <td>1.000000</td>\n",
              "      <td>1.909887e+33</td>\n",
              "    </tr>\n",
              "  </tbody>\n",
              "</table>\n",
              "</div>\n",
              "    <div class=\"colab-df-buttons\">\n",
              "\n",
              "  <div class=\"colab-df-container\">\n",
              "    <button class=\"colab-df-convert\" onclick=\"convertToInteractive('df-208e00ca-d42d-4d94-9fac-f19daa6f0f82')\"\n",
              "            title=\"Convert this dataframe to an interactive table.\"\n",
              "            style=\"display:none;\">\n",
              "\n",
              "  <svg xmlns=\"http://www.w3.org/2000/svg\" height=\"24px\" viewBox=\"0 -960 960 960\">\n",
              "    <path d=\"M120-120v-720h720v720H120Zm60-500h600v-160H180v160Zm220 220h160v-160H400v160Zm0 220h160v-160H400v160ZM180-400h160v-160H180v160Zm440 0h160v-160H620v160ZM180-180h160v-160H180v160Zm440 0h160v-160H620v160Z\"/>\n",
              "  </svg>\n",
              "    </button>\n",
              "\n",
              "  <style>\n",
              "    .colab-df-container {\n",
              "      display:flex;\n",
              "      gap: 12px;\n",
              "    }\n",
              "\n",
              "    .colab-df-convert {\n",
              "      background-color: #E8F0FE;\n",
              "      border: none;\n",
              "      border-radius: 50%;\n",
              "      cursor: pointer;\n",
              "      display: none;\n",
              "      fill: #1967D2;\n",
              "      height: 32px;\n",
              "      padding: 0 0 0 0;\n",
              "      width: 32px;\n",
              "    }\n",
              "\n",
              "    .colab-df-convert:hover {\n",
              "      background-color: #E2EBFA;\n",
              "      box-shadow: 0px 1px 2px rgba(60, 64, 67, 0.3), 0px 1px 3px 1px rgba(60, 64, 67, 0.15);\n",
              "      fill: #174EA6;\n",
              "    }\n",
              "\n",
              "    .colab-df-buttons div {\n",
              "      margin-bottom: 4px;\n",
              "    }\n",
              "\n",
              "    [theme=dark] .colab-df-convert {\n",
              "      background-color: #3B4455;\n",
              "      fill: #D2E3FC;\n",
              "    }\n",
              "\n",
              "    [theme=dark] .colab-df-convert:hover {\n",
              "      background-color: #434B5C;\n",
              "      box-shadow: 0px 1px 3px 1px rgba(0, 0, 0, 0.15);\n",
              "      filter: drop-shadow(0px 1px 2px rgba(0, 0, 0, 0.3));\n",
              "      fill: #FFFFFF;\n",
              "    }\n",
              "  </style>\n",
              "\n",
              "    <script>\n",
              "      const buttonEl =\n",
              "        document.querySelector('#df-208e00ca-d42d-4d94-9fac-f19daa6f0f82 button.colab-df-convert');\n",
              "      buttonEl.style.display =\n",
              "        google.colab.kernel.accessAllowed ? 'block' : 'none';\n",
              "\n",
              "      async function convertToInteractive(key) {\n",
              "        const element = document.querySelector('#df-208e00ca-d42d-4d94-9fac-f19daa6f0f82');\n",
              "        const dataTable =\n",
              "          await google.colab.kernel.invokeFunction('convertToInteractive',\n",
              "                                                    [key], {});\n",
              "        if (!dataTable) return;\n",
              "\n",
              "        const docLinkHtml = 'Like what you see? Visit the ' +\n",
              "          '<a target=\"_blank\" href=https://colab.research.google.com/notebooks/data_table.ipynb>data table notebook</a>'\n",
              "          + ' to learn more about interactive tables.';\n",
              "        element.innerHTML = '';\n",
              "        dataTable['output_type'] = 'display_data';\n",
              "        await google.colab.output.renderOutput(dataTable, element);\n",
              "        const docLink = document.createElement('div');\n",
              "        docLink.innerHTML = docLinkHtml;\n",
              "        element.appendChild(docLink);\n",
              "      }\n",
              "    </script>\n",
              "  </div>\n",
              "\n",
              "\n",
              "<div id=\"df-b14d66d0-9662-47dd-a388-5652aaa51982\">\n",
              "  <button class=\"colab-df-quickchart\" onclick=\"quickchart('df-b14d66d0-9662-47dd-a388-5652aaa51982')\"\n",
              "            title=\"Suggest charts.\"\n",
              "            style=\"display:none;\">\n",
              "\n",
              "<svg xmlns=\"http://www.w3.org/2000/svg\" height=\"24px\"viewBox=\"0 0 24 24\"\n",
              "     width=\"24px\">\n",
              "    <g>\n",
              "        <path d=\"M19 3H5c-1.1 0-2 .9-2 2v14c0 1.1.9 2 2 2h14c1.1 0 2-.9 2-2V5c0-1.1-.9-2-2-2zM9 17H7v-7h2v7zm4 0h-2V7h2v10zm4 0h-2v-4h2v4z\"/>\n",
              "    </g>\n",
              "</svg>\n",
              "  </button>\n",
              "\n",
              "<style>\n",
              "  .colab-df-quickchart {\n",
              "      --bg-color: #E8F0FE;\n",
              "      --fill-color: #1967D2;\n",
              "      --hover-bg-color: #E2EBFA;\n",
              "      --hover-fill-color: #174EA6;\n",
              "      --disabled-fill-color: #AAA;\n",
              "      --disabled-bg-color: #DDD;\n",
              "  }\n",
              "\n",
              "  [theme=dark] .colab-df-quickchart {\n",
              "      --bg-color: #3B4455;\n",
              "      --fill-color: #D2E3FC;\n",
              "      --hover-bg-color: #434B5C;\n",
              "      --hover-fill-color: #FFFFFF;\n",
              "      --disabled-bg-color: #3B4455;\n",
              "      --disabled-fill-color: #666;\n",
              "  }\n",
              "\n",
              "  .colab-df-quickchart {\n",
              "    background-color: var(--bg-color);\n",
              "    border: none;\n",
              "    border-radius: 50%;\n",
              "    cursor: pointer;\n",
              "    display: none;\n",
              "    fill: var(--fill-color);\n",
              "    height: 32px;\n",
              "    padding: 0;\n",
              "    width: 32px;\n",
              "  }\n",
              "\n",
              "  .colab-df-quickchart:hover {\n",
              "    background-color: var(--hover-bg-color);\n",
              "    box-shadow: 0 1px 2px rgba(60, 64, 67, 0.3), 0 1px 3px 1px rgba(60, 64, 67, 0.15);\n",
              "    fill: var(--button-hover-fill-color);\n",
              "  }\n",
              "\n",
              "  .colab-df-quickchart-complete:disabled,\n",
              "  .colab-df-quickchart-complete:disabled:hover {\n",
              "    background-color: var(--disabled-bg-color);\n",
              "    fill: var(--disabled-fill-color);\n",
              "    box-shadow: none;\n",
              "  }\n",
              "\n",
              "  .colab-df-spinner {\n",
              "    border: 2px solid var(--fill-color);\n",
              "    border-color: transparent;\n",
              "    border-bottom-color: var(--fill-color);\n",
              "    animation:\n",
              "      spin 1s steps(1) infinite;\n",
              "  }\n",
              "\n",
              "  @keyframes spin {\n",
              "    0% {\n",
              "      border-color: transparent;\n",
              "      border-bottom-color: var(--fill-color);\n",
              "      border-left-color: var(--fill-color);\n",
              "    }\n",
              "    20% {\n",
              "      border-color: transparent;\n",
              "      border-left-color: var(--fill-color);\n",
              "      border-top-color: var(--fill-color);\n",
              "    }\n",
              "    30% {\n",
              "      border-color: transparent;\n",
              "      border-left-color: var(--fill-color);\n",
              "      border-top-color: var(--fill-color);\n",
              "      border-right-color: var(--fill-color);\n",
              "    }\n",
              "    40% {\n",
              "      border-color: transparent;\n",
              "      border-right-color: var(--fill-color);\n",
              "      border-top-color: var(--fill-color);\n",
              "    }\n",
              "    60% {\n",
              "      border-color: transparent;\n",
              "      border-right-color: var(--fill-color);\n",
              "    }\n",
              "    80% {\n",
              "      border-color: transparent;\n",
              "      border-right-color: var(--fill-color);\n",
              "      border-bottom-color: var(--fill-color);\n",
              "    }\n",
              "    90% {\n",
              "      border-color: transparent;\n",
              "      border-bottom-color: var(--fill-color);\n",
              "    }\n",
              "  }\n",
              "</style>\n",
              "\n",
              "  <script>\n",
              "    async function quickchart(key) {\n",
              "      const quickchartButtonEl =\n",
              "        document.querySelector('#' + key + ' button');\n",
              "      quickchartButtonEl.disabled = true;  // To prevent multiple clicks.\n",
              "      quickchartButtonEl.classList.add('colab-df-spinner');\n",
              "      try {\n",
              "        const charts = await google.colab.kernel.invokeFunction(\n",
              "            'suggestCharts', [key], {});\n",
              "      } catch (error) {\n",
              "        console.error('Error during call to suggestCharts:', error);\n",
              "      }\n",
              "      quickchartButtonEl.classList.remove('colab-df-spinner');\n",
              "      quickchartButtonEl.classList.add('colab-df-quickchart-complete');\n",
              "    }\n",
              "    (() => {\n",
              "      let quickchartButtonEl =\n",
              "        document.querySelector('#df-b14d66d0-9662-47dd-a388-5652aaa51982 button');\n",
              "      quickchartButtonEl.style.display =\n",
              "        google.colab.kernel.accessAllowed ? 'block' : 'none';\n",
              "    })();\n",
              "  </script>\n",
              "</div>\n",
              "    </div>\n",
              "  </div>\n"
            ]
          },
          "metadata": {},
          "execution_count": 73
        }
      ]
    },
    {
      "cell_type": "markdown",
      "source": [
        "### Se corrobora la independencia de las características utilizadas. Esto es importante para descartar características que puedan estar de más y sesgar el modelo"
      ],
      "metadata": {
        "id": "Qn9hBNKOdrXT"
      }
    },
    {
      "cell_type": "code",
      "source": [
        "# Se calcula la matriz de correlación\n",
        "corr = meta_ordenado[['avg_rating', 'densidad', 'num_of_reviews']].corr()\n",
        "\n",
        "# Se crea un mapa de calor (heatmap) para visualizar la matriz de correlación\n",
        "plt.figure(figsize=(8, 6))\n",
        "sns.heatmap(corr, annot=True, cmap='coolwarm', linewidths=0.5)\n",
        "plt.title('Matriz de Correlación')\n",
        "plt.show()"
      ],
      "metadata": {
        "colab": {
          "base_uri": "https://localhost:8080/",
          "height": 545
        },
        "id": "OYM1juJCdvC1",
        "outputId": "021493e3-9e52-4d4e-e206-c37770cff6fc"
      },
      "execution_count": null,
      "outputs": [
        {
          "output_type": "display_data",
          "data": {
            "text/plain": [
              "<Figure size 800x600 with 2 Axes>"
            ],
            "image/png": "[encoded data removed]"
          },
          "metadata": {}
        }
      ]
    },
    {
      "cell_type": "markdown",
      "source": [
        "### Se observa la correlación entre la puntuación de los restaurantes filtrados y cada característica usada"
      ],
      "metadata": {
        "id": "SZkROWR56mFL"
      }
    },
    {
      "cell_type": "code",
      "source": [
        "# Calcula las correlaciones entre \"puntuacion_restaurante\" y las tres columnas normalizadas\n",
        "correlation_puntaje = meta_ordenado['puntuacion_restaurante'].corr(meta_ordenado['avg_rating'])\n",
        "correlation_densidad = meta_ordenado['puntuacion_restaurante'].corr(meta_ordenado['densidad'])\n",
        "correlation_reviews = meta_ordenado['puntuacion_restaurante'].corr(meta_ordenado['num_of_reviews'])\n",
        "\n",
        "print(f\"Correlación entre Puntuación del Restaurante y Puntaje Normalizado: {correlation_puntaje}\")\n",
        "print(f\"Correlación entre Puntuación del Restaurante y Densidad Normalizada: {correlation_densidad}\")\n",
        "print(f\"Correlación entre Puntuación del Restaurante y Número de Reseñas Normalizado: {correlation_reviews}\")\n"
      ],
      "metadata": {
        "colab": {
          "base_uri": "https://localhost:8080/"
        },
        "id": "55_YQE-YcAsK",
        "outputId": "76dda85d-8a86-40d3-c7c9-39dd2a3d9faa"
      },
      "execution_count": null,
      "outputs": [
        {
          "output_type": "stream",
          "name": "stdout",
          "text": [
            "Correlación entre Puntuación del Restaurante y Puntaje Normalizado: 0.6938358594139046\n",
            "Correlación entre Puntuación del Restaurante y Densidad Normalizada: 0.5868941097365156\n",
            "Correlación entre Puntuación del Restaurante y Número de Reseñas Normalizado: 0.19595865037084498\n"
          ]
        }
      ]
    },
    {
      "cell_type": "markdown",
      "source": [
        "### Se Una vez que el usuario seleccionó el restaurante que quiere examinar, se buscan los que están alrededor de este"
      ],
      "metadata": {
        "id": "3YPD21utYLyF"
      }
    },
    {
      "cell_type": "code",
      "source": [
        "from geopy.distance import geodesic\n",
        "\n",
        "# Se ingresa la entrada del usuario\n",
        "nombre_ingresado = input(\"Ingrese el nombre del lugar: \")\n",
        "\n",
        "# Se filtran los datos para obtener solo los restaurantes dentro del radio de 500 metros\n",
        "restaurantes_cercanos = meta_2.copy()\n",
        "\n",
        "# Se definen las coordenadas del lugar ingresado por el usuario\n",
        "latitud_usuario = restaurantes_cercanos[restaurantes_cercanos['local_name'] == nombre_ingresado]['latitude'].iloc[0]\n",
        "longitud_usuario = restaurantes_cercanos[restaurantes_cercanos['local_name'] == nombre_ingresado]['longitude'].iloc[0]\n",
        "\n",
        "# Se calcula la distancia (euclidiana, las distancias son cortas) a cada restaurante en metros y agregarla como una nueva columna\n",
        "restaurantes_cercanos['Distancia (m)'] = restaurantes_cercanos.apply(\n",
        "    lambda row: geodesic((latitud_usuario, longitud_usuario), (row['latitude'], row['longitude'])).meters, axis=1\n",
        ")\n",
        "\n",
        "# Se convierte la distancia límite a un valor numérico (en metros)\n",
        "distancia_limite_metros = 500\n",
        "\n",
        "# Se filtran los restaurantes dentro del radio de 500 metros y con la misma categoría\n",
        "restaurantes_cercanos = restaurantes_cercanos[\n",
        "    (restaurantes_cercanos['Distancia (m)'] <= distancia_limite_metros)\n",
        "]\n",
        "\n",
        "# Se ordenan los restaurantes por distancia\n",
        "restaurantes_cercanos = restaurantes_cercanos.sort_values(by='Distancia (m)')\n",
        "\n"
      ],
      "metadata": {
        "colab": {
          "base_uri": "https://localhost:8080/"
        },
        "id": "HkJ44N2KcvW0",
        "outputId": "2f007cd8-a8b7-492a-d277-967883ea28be"
      },
      "execution_count": null,
      "outputs": [
        {
          "name": "stdout",
          "output_type": "stream",
          "text": [
            "Ingrese el nombre del lugar: Caffé Paradiso Miami\n"
          ]
        }
      ]
    },
    {
      "cell_type": "markdown",
      "source": [
        "### Se visualizan los resultados en una tabla"
      ],
      "metadata": {
        "id": "9CPXTcXWYntd"
      }
    },
    {
      "cell_type": "code",
      "source": [
        "columnas=[\"local_name\",\"category\",\"Distancia (m)\"]"
      ],
      "metadata": {
        "id": "QFkXfHb_VinL"
      },
      "execution_count": null,
      "outputs": []
    },
    {
      "cell_type": "code",
      "source": [
        "restaurantes_cercanos[columnas]"
      ],
      "metadata": {
        "id": "C9pLOOmZT22f",
        "colab": {
          "base_uri": "https://localhost:8080/",
          "height": 363
        },
        "outputId": "a8911c43-27eb-4efa-a37d-e4afce030d08"
      },
      "execution_count": null,
      "outputs": [
        {
          "output_type": "execute_result",
          "data": {
            "text/plain": [
              "                         local_name  \\\n",
              "132            Caffé Paradiso Miami   \n",
              "988                      BOHO Miami   \n",
              "143  Mr Ceviche Peruvian Restaurant   \n",
              "935                 Salad Creations   \n",
              "118        The Seafood Bar & Market   \n",
              "882     The Daily Creative Food Co.   \n",
              "386                       Fuel Poke   \n",
              "64                   GALIPAN Bistro   \n",
              "323                         Alidoro   \n",
              "787               Plant Food + Wine   \n",
              "\n",
              "                                              category  Distancia (m)  \n",
              "132                                 Italian restaurant       0.000000  \n",
              "988                                         Restaurant      16.397498  \n",
              "143     Peruvian restaurant, Latin American restaurant     354.562831  \n",
              "935                                         Restaurant     359.450916  \n",
              "118                                         Restaurant     359.592704  \n",
              "882  Restaurant, Breakfast restaurant, Caterer, Din...     365.309914  \n",
              "386                                Hawaiian restaurant     398.419871  \n",
              "64   Fast food restaurant, Hamburger restaurant, Ve...     418.903552  \n",
              "323                  Sandwich shop, Italian restaurant     444.817316  \n",
              "787   Vegan restaurant, Organic restaurant, Restaurant     478.049918  "
            ],
            "text/html": [
              "\n",
              "  <div id=\"df-e4a88ea0-a790-497b-9d31-7b0372931f45\" class=\"colab-df-container\">\n",
              "    <div>\n",
              "<style scoped>\n",
              "    .dataframe tbody tr th:only-of-type {\n",
              "        vertical-align: middle;\n",
              "    }\n",
              "\n",
              "    .dataframe tbody tr th {\n",
              "        vertical-align: top;\n",
              "    }\n",
              "\n",
              "    .dataframe thead th {\n",
              "        text-align: right;\n",
              "    }\n",
              "</style>\n",
              "<table border=\"1\" class=\"dataframe\">\n",
              "  <thead>\n",
              "    <tr style=\"text-align: right;\">\n",
              "      <th></th>\n",
              "      <th>local_name</th>\n",
              "      <th>category</th>\n",
              "      <th>Distancia (m)</th>\n",
              "    </tr>\n",
              "  </thead>\n",
              "  <tbody>\n",
              "    <tr>\n",
              "      <th>132</th>\n",
              "      <td>Caffé Paradiso Miami</td>\n",
              "      <td>Italian restaurant</td>\n",
              "      <td>0.000000</td>\n",
              "    </tr>\n",
              "    <tr>\n",
              "      <th>988</th>\n",
              "      <td>BOHO Miami</td>\n",
              "      <td>Restaurant</td>\n",
              "      <td>16.397498</td>\n",
              "    </tr>\n",
              "    <tr>\n",
              "      <th>143</th>\n",
              "      <td>Mr Ceviche Peruvian Restaurant</td>\n",
              "      <td>Peruvian restaurant, Latin American restaurant</td>\n",
              "      <td>354.562831</td>\n",
              "    </tr>\n",
              "    <tr>\n",
              "      <th>935</th>\n",
              "      <td>Salad Creations</td>\n",
              "      <td>Restaurant</td>\n",
              "      <td>359.450916</td>\n",
              "    </tr>\n",
              "    <tr>\n",
              "      <th>118</th>\n",
              "      <td>The Seafood Bar &amp; Market</td>\n",
              "      <td>Restaurant</td>\n",
              "      <td>359.592704</td>\n",
              "    </tr>\n",
              "    <tr>\n",
              "      <th>882</th>\n",
              "      <td>The Daily Creative Food Co.</td>\n",
              "      <td>Restaurant, Breakfast restaurant, Caterer, Din...</td>\n",
              "      <td>365.309914</td>\n",
              "    </tr>\n",
              "    <tr>\n",
              "      <th>386</th>\n",
              "      <td>Fuel Poke</td>\n",
              "      <td>Hawaiian restaurant</td>\n",
              "      <td>398.419871</td>\n",
              "    </tr>\n",
              "    <tr>\n",
              "      <th>64</th>\n",
              "      <td>GALIPAN Bistro</td>\n",
              "      <td>Fast food restaurant, Hamburger restaurant, Ve...</td>\n",
              "      <td>418.903552</td>\n",
              "    </tr>\n",
              "    <tr>\n",
              "      <th>323</th>\n",
              "      <td>Alidoro</td>\n",
              "      <td>Sandwich shop, Italian restaurant</td>\n",
              "      <td>444.817316</td>\n",
              "    </tr>\n",
              "    <tr>\n",
              "      <th>787</th>\n",
              "      <td>Plant Food + Wine</td>\n",
              "      <td>Vegan restaurant, Organic restaurant, Restaurant</td>\n",
              "      <td>478.049918</td>\n",
              "    </tr>\n",
              "  </tbody>\n",
              "</table>\n",
              "</div>\n",
              "    <div class=\"colab-df-buttons\">\n",
              "\n",
              "  <div class=\"colab-df-container\">\n",
              "    <button class=\"colab-df-convert\" onclick=\"convertToInteractive('df-e4a88ea0-a790-497b-9d31-7b0372931f45')\"\n",
              "            title=\"Convert this dataframe to an interactive table.\"\n",
              "            style=\"display:none;\">\n",
              "\n",
              "  <svg xmlns=\"http://www.w3.org/2000/svg\" height=\"24px\" viewBox=\"0 -960 960 960\">\n",
              "    <path d=\"M120-120v-720h720v720H120Zm60-500h600v-160H180v160Zm220 220h160v-160H400v160Zm0 220h160v-160H400v160ZM180-400h160v-160H180v160Zm440 0h160v-160H620v160ZM180-180h160v-160H180v160Zm440 0h160v-160H620v160Z\"/>\n",
              "  </svg>\n",
              "    </button>\n",
              "\n",
              "  <style>\n",
              "    .colab-df-container {\n",
              "      display:flex;\n",
              "      gap: 12px;\n",
              "    }\n",
              "\n",
              "    .colab-df-convert {\n",
              "      background-color: #E8F0FE;\n",
              "      border: none;\n",
              "      border-radius: 50%;\n",
              "      cursor: pointer;\n",
              "      display: none;\n",
              "      fill: #1967D2;\n",
              "      height: 32px;\n",
              "      padding: 0 0 0 0;\n",
              "      width: 32px;\n",
              "    }\n",
              "\n",
              "    .colab-df-convert:hover {\n",
              "      background-color: #E2EBFA;\n",
              "      box-shadow: 0px 1px 2px rgba(60, 64, 67, 0.3), 0px 1px 3px 1px rgba(60, 64, 67, 0.15);\n",
              "      fill: #174EA6;\n",
              "    }\n",
              "\n",
              "    .colab-df-buttons div {\n",
              "      margin-bottom: 4px;\n",
              "    }\n",
              "\n",
              "    [theme=dark] .colab-df-convert {\n",
              "      background-color: #3B4455;\n",
              "      fill: #D2E3FC;\n",
              "    }\n",
              "\n",
              "    [theme=dark] .colab-df-convert:hover {\n",
              "      background-color: #434B5C;\n",
              "      box-shadow: 0px 1px 3px 1px rgba(0, 0, 0, 0.15);\n",
              "      filter: drop-shadow(0px 1px 2px rgba(0, 0, 0, 0.3));\n",
              "      fill: #FFFFFF;\n",
              "    }\n",
              "  </style>\n",
              "\n",
              "    <script>\n",
              "      const buttonEl =\n",
              "        document.querySelector('#df-e4a88ea0-a790-497b-9d31-7b0372931f45 button.colab-df-convert');\n",
              "      buttonEl.style.display =\n",
              "        google.colab.kernel.accessAllowed ? 'block' : 'none';\n",
              "\n",
              "      async function convertToInteractive(key) {\n",
              "        const element = document.querySelector('#df-e4a88ea0-a790-497b-9d31-7b0372931f45');\n",
              "        const dataTable =\n",
              "          await google.colab.kernel.invokeFunction('convertToInteractive',\n",
              "                                                    [key], {});\n",
              "        if (!dataTable) return;\n",
              "\n",
              "        const docLinkHtml = 'Like what you see? Visit the ' +\n",
              "          '<a target=\"_blank\" href=https://colab.research.google.com/notebooks/data_table.ipynb>data table notebook</a>'\n",
              "          + ' to learn more about interactive tables.';\n",
              "        element.innerHTML = '';\n",
              "        dataTable['output_type'] = 'display_data';\n",
              "        await google.colab.output.renderOutput(dataTable, element);\n",
              "        const docLink = document.createElement('div');\n",
              "        docLink.innerHTML = docLinkHtml;\n",
              "        element.appendChild(docLink);\n",
              "      }\n",
              "    </script>\n",
              "  </div>\n",
              "\n",
              "\n",
              "<div id=\"df-442af41b-698e-41bf-87c6-8631ab189af5\">\n",
              "  <button class=\"colab-df-quickchart\" onclick=\"quickchart('df-442af41b-698e-41bf-87c6-8631ab189af5')\"\n",
              "            title=\"Suggest charts.\"\n",
              "            style=\"display:none;\">\n",
              "\n",
              "<svg xmlns=\"http://www.w3.org/2000/svg\" height=\"24px\"viewBox=\"0 0 24 24\"\n",
              "     width=\"24px\">\n",
              "    <g>\n",
              "        <path d=\"M19 3H5c-1.1 0-2 .9-2 2v14c0 1.1.9 2 2 2h14c1.1 0 2-.9 2-2V5c0-1.1-.9-2-2-2zM9 17H7v-7h2v7zm4 0h-2V7h2v10zm4 0h-2v-4h2v4z\"/>\n",
              "    </g>\n",
              "</svg>\n",
              "  </button>\n",
              "\n",
              "<style>\n",
              "  .colab-df-quickchart {\n",
              "      --bg-color: #E8F0FE;\n",
              "      --fill-color: #1967D2;\n",
              "      --hover-bg-color: #E2EBFA;\n",
              "      --hover-fill-color: #174EA6;\n",
              "      --disabled-fill-color: #AAA;\n",
              "      --disabled-bg-color: #DDD;\n",
              "  }\n",
              "\n",
              "  [theme=dark] .colab-df-quickchart {\n",
              "      --bg-color: #3B4455;\n",
              "      --fill-color: #D2E3FC;\n",
              "      --hover-bg-color: #434B5C;\n",
              "      --hover-fill-color: #FFFFFF;\n",
              "      --disabled-bg-color: #3B4455;\n",
              "      --disabled-fill-color: #666;\n",
              "  }\n",
              "\n",
              "  .colab-df-quickchart {\n",
              "    background-color: var(--bg-color);\n",
              "    border: none;\n",
              "    border-radius: 50%;\n",
              "    cursor: pointer;\n",
              "    display: none;\n",
              "    fill: var(--fill-color);\n",
              "    height: 32px;\n",
              "    padding: 0;\n",
              "    width: 32px;\n",
              "  }\n",
              "\n",
              "  .colab-df-quickchart:hover {\n",
              "    background-color: var(--hover-bg-color);\n",
              "    box-shadow: 0 1px 2px rgba(60, 64, 67, 0.3), 0 1px 3px 1px rgba(60, 64, 67, 0.15);\n",
              "    fill: var(--button-hover-fill-color);\n",
              "  }\n",
              "\n",
              "  .colab-df-quickchart-complete:disabled,\n",
              "  .colab-df-quickchart-complete:disabled:hover {\n",
              "    background-color: var(--disabled-bg-color);\n",
              "    fill: var(--disabled-fill-color);\n",
              "    box-shadow: none;\n",
              "  }\n",
              "\n",
              "  .colab-df-spinner {\n",
              "    border: 2px solid var(--fill-color);\n",
              "    border-color: transparent;\n",
              "    border-bottom-color: var(--fill-color);\n",
              "    animation:\n",
              "      spin 1s steps(1) infinite;\n",
              "  }\n",
              "\n",
              "  @keyframes spin {\n",
              "    0% {\n",
              "      border-color: transparent;\n",
              "      border-bottom-color: var(--fill-color);\n",
              "      border-left-color: var(--fill-color);\n",
              "    }\n",
              "    20% {\n",
              "      border-color: transparent;\n",
              "      border-left-color: var(--fill-color);\n",
              "      border-top-color: var(--fill-color);\n",
              "    }\n",
              "    30% {\n",
              "      border-color: transparent;\n",
              "      border-left-color: var(--fill-color);\n",
              "      border-top-color: var(--fill-color);\n",
              "      border-right-color: var(--fill-color);\n",
              "    }\n",
              "    40% {\n",
              "      border-color: transparent;\n",
              "      border-right-color: var(--fill-color);\n",
              "      border-top-color: var(--fill-color);\n",
              "    }\n",
              "    60% {\n",
              "      border-color: transparent;\n",
              "      border-right-color: var(--fill-color);\n",
              "    }\n",
              "    80% {\n",
              "      border-color: transparent;\n",
              "      border-right-color: var(--fill-color);\n",
              "      border-bottom-color: var(--fill-color);\n",
              "    }\n",
              "    90% {\n",
              "      border-color: transparent;\n",
              "      border-bottom-color: var(--fill-color);\n",
              "    }\n",
              "  }\n",
              "</style>\n",
              "\n",
              "  <script>\n",
              "    async function quickchart(key) {\n",
              "      const quickchartButtonEl =\n",
              "        document.querySelector('#' + key + ' button');\n",
              "      quickchartButtonEl.disabled = true;  // To prevent multiple clicks.\n",
              "      quickchartButtonEl.classList.add('colab-df-spinner');\n",
              "      try {\n",
              "        const charts = await google.colab.kernel.invokeFunction(\n",
              "            'suggestCharts', [key], {});\n",
              "      } catch (error) {\n",
              "        console.error('Error during call to suggestCharts:', error);\n",
              "      }\n",
              "      quickchartButtonEl.classList.remove('colab-df-spinner');\n",
              "      quickchartButtonEl.classList.add('colab-df-quickchart-complete');\n",
              "    }\n",
              "    (() => {\n",
              "      let quickchartButtonEl =\n",
              "        document.querySelector('#df-442af41b-698e-41bf-87c6-8631ab189af5 button');\n",
              "      quickchartButtonEl.style.display =\n",
              "        google.colab.kernel.accessAllowed ? 'block' : 'none';\n",
              "    })();\n",
              "  </script>\n",
              "</div>\n",
              "    </div>\n",
              "  </div>\n"
            ]
          },
          "metadata": {},
          "execution_count": 69
        }
      ]
    },
    {
      "cell_type": "markdown",
      "source": [
        "### Se genera un mapa para visualizar"
      ],
      "metadata": {
        "id": "Ao3BhNHvYqat"
      }
    },
    {
      "cell_type": "code",
      "source": [
        "# Se crea un mapa centrado en las coordenadas del usuario\n",
        "mapa = folium.Map(location=[latitud_usuario, longitud_usuario], zoom_start=15)\n",
        "\n",
        "# Se itera a través de los restaurantes cercanos y agrega marcadores rojos al mapa\n",
        "for index, restaurante in restaurantes_cercanos.iterrows():\n",
        "    folium.Marker(\n",
        "        location=[restaurante['latitude'], restaurante['longitude']],\n",
        "        popup=restaurante['local_name'],  # Puedes personalizar el contenido emergente\n",
        "        icon=folium.Icon(color='red')\n",
        "    ).add_to(mapa)\n",
        "\n",
        "# Se guarda el mapa como un archivo HTML\n",
        "mapa.save('restaurantes_cercanos_mapa.html')"
      ],
      "metadata": {
        "id": "rh6h4ZdMIgED"
      },
      "execution_count": null,
      "outputs": []
    },
    {
      "cell_type": "markdown",
      "source": [
        "### Se guarda un archivo csv con los restaurantes de esa zona para calcular el KPI 1 y presentarlo en el dashboard"
      ],
      "metadata": {
        "id": "_UfOWDXVURA1"
      }
    },
    {
      "cell_type": "code",
      "source": [
        "restaurantes_cercanos.to_csv('Archivo.csv', index=False)"
      ],
      "metadata": {
        "id": "Zr7RZRPLUQcz"
      },
      "execution_count": null,
      "outputs": []
    }
  ]
}